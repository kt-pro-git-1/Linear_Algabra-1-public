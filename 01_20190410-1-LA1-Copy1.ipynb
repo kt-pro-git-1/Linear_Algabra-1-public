{
 "cells": [
  {
   "cell_type": "markdown",
   "metadata": {},
   "source": [
    "2019年度\n",
    "線形代数　I　講座資料\n",
    "\n",
    "資料番号　No.1 \n",
    "\n",
    "### [1]ベクトルと演算\n"
   ]
  },
  {
   "cell_type": "markdown",
   "metadata": {},
   "source": [
    "####  ベクトルの大きさと方向について\n",
    "\n",
    "平面ベクトルの時、始点Aから終点Bの移動線分を$\\vec{AB}$と表す、１文字で表現するときには太文字$\\boldsymbol{ a }$で表す。\n",
    "\n",
    "１）ベクトルには大きさは、ベクトルの線分の大きさで、$ |\\vec{AB}|, |\\boldsymbol{ a }|$で表す。\n",
    "\n",
    "２）ベクトルには方向がある\n",
    "\n",
    "３）２つのベクトルが等しいとは、大きさと方向の両方ともに等しいときである。\n",
    "\n",
    "$$ \\vec{AB} = \\vec{CD} $$\n",
    "\n",
    "位置ベクトル\n",
    "座標の原点O からの座標Pまでのベクトル$　\\boldsymbol{a}=\\vec{OP}$を点Pの位置ベクトルという"
   ]
  },
  {
   "cell_type": "code",
   "execution_count": 1,
   "metadata": {},
   "outputs": [],
   "source": [
    "from sympy import *\n",
    "init_printing()\n",
    "# init_session()"
   ]
  },
  {
   "cell_type": "code",
   "execution_count": 2,
   "metadata": {},
   "outputs": [],
   "source": [
    "import numpy as np\n",
    "from matplotlib import pyplot\n",
    "import matplotlib.pyplot as plt\n",
    "import matplotlib.patches as mpatches "
   ]
  },
  {
   "cell_type": "code",
   "execution_count": 4,
   "metadata": {},
   "outputs": [
    {
     "data": {
      "image/png": "[encoded data removed]",
      "text/plain": [
       "<matplotlib.figure.Figure at 0x9ba5f10>"
      ]
     },
     "metadata": {},
     "output_type": "display_data"
    }
   ],
   "source": [
    "fig = plt.figure(figsize=(4,4))\n",
    "ax = fig.add_subplot(111)\n",
    "a1 = mpatches.Arrow(x=0,y=0,dx=3,dy=5,width=1,color='red' )\n",
    "ax.set_xlim([0, 10])\n",
    "ax.set_ylim([0, 10])\n",
    "ax.add_patch(a1)\n",
    "ax.grid(linestyle='-')\n",
    "plt.show()"
   ]
  },
  {
   "cell_type": "code",
   "execution_count": 3,
   "metadata": {},
   "outputs": [
    {
     "data": {
      "application/vnd.jupyter.widget-view+json": {
       "model_id": "8396ea6bd4fb49909ca77b35ed5bdea7",
       "version_major": 2,
       "version_minor": 0
      },
      "text/html": [
       "<p>Failed to display Jupyter Widget of type <code>interactive</code>.</p>\n",
       "<p>\n",
       "  If you're reading this message in the Jupyter Notebook or JupyterLab Notebook, it may mean\n",
       "  that the widgets JavaScript is still loading. If this message persists, it\n",
       "  likely means that the widgets JavaScript library is either not installed or\n",
       "  not enabled. See the <a href=\"https://ipywidgets.readthedocs.io/en/stable/user_install.html\">Jupyter\n",
       "  Widgets Documentation</a> for setup instructions.\n",
       "</p>\n",
       "<p>\n",
       "  If you're reading this message in another frontend (for example, a static\n",
       "  rendering on GitHub or <a href=\"https://nbviewer.jupyter.org/\">NBViewer</a>),\n",
       "  it may mean that your frontend doesn't currently support widgets.\n",
       "</p>\n"
      ],
      "text/plain": [
       "interactive(children=(FloatSlider(value=5.0, description='data_x', max=10.0, step=0.01), FloatSlider(value=5.0, description='data_y', max=10.0, step=0.01), Output()), _dom_classes=('widget-interact',))"
      ]
     },
     "metadata": {},
     "output_type": "display_data"
    }
   ],
   "source": [
    "# インタラクティブな作図　ベクトルの大きさと向きと成分の関係\n",
    "\n",
    "from ipywidgets import interact\n",
    "import numpy as np\n",
    "from mpmath import *\n",
    "import matplotlib.pyplot as plt\n",
    "\n",
    "\n",
    "\n",
    "def scatter(data_x=5,data_y=5 ):\n",
    "    fig = plt.figure(figsize=(4,4))\n",
    "    ax = fig.add_subplot(111)\n",
    "    a1 = mpatches.Arrow(x=0,y=0,dx=data_x,dy=data_y,width=1,color='red' )\n",
    "    ax.set_xlim([0, 10])\n",
    "    ax.set_ylim([0, 10])\n",
    "    ax.add_patch(a1)\n",
    "    plt.show()\n",
    "    print( '大きさ ',sqrt(data_x**2+data_y**2))\n",
    "    print( '角度[°]',degrees( atan2(data_y, data_x))  )\n",
    "\n",
    "interact(scatter, data_x=(0, 10, 0.01),data_y=(0,10,0.01));\n"
   ]
  },
  {
   "cell_type": "code",
   "execution_count": 6,
   "metadata": {
    "scrolled": true
   },
   "outputs": [
    {
     "data": {
      "image/png": "[encoded data removed]",
      "text/plain": [
       "<matplotlib.figure.Figure at 0x9bd9950>"
      ]
     },
     "metadata": {},
     "output_type": "display_data"
    }
   ],
   "source": [
    "def arrow():\n",
    "    fig = pyplot.figure()\n",
    "    ax = fig.add_subplot(111)\n",
    "\n",
    "    point = {\n",
    "        'start': [10, 10],\n",
    "        'end': [90, 90]\n",
    "    }\n",
    "\n",
    "    ax.plot(*point['start'], 'o', color=\"red\")\n",
    "    ax.plot(*point['end'], 'o', color=\"blue\")\n",
    "\n",
    "    ax.annotate('', xy=point['end'], xytext=point['start'],\n",
    "                arrowprops=dict(shrink=0, width=1, headwidth=8, \n",
    "                                headlength=10, connectionstyle='arc3',\n",
    "                                facecolor='gray', edgecolor='gray')\n",
    "               )\n",
    "\n",
    "    ax.set_xlim([0, 100])\n",
    "    ax.set_ylim([0, 100])\n",
    "    ax.grid(linestyle='-')\n",
    "    pyplot.show()\n",
    "arrow()"
   ]
  },
  {
   "cell_type": "markdown",
   "metadata": {},
   "source": [
    "ベクトルの成分表示につてについて\n",
    "$  \\boldsymbol{a}= (a_1, a_2 )$と表す\n",
    "\n",
    "縦に書く時は　$$ \\boldsymbol{a}= \\left(  \\begin{array}{c}   a_1 \\\\    a_2 \\end{array}\\right)$$"
   ]
  },
  {
   "cell_type": "code",
   "execution_count": 6,
   "metadata": {},
   "outputs": [],
   "source": [
    "a, b,a1,a2 = symbols('a b,a1,a2')\n",
    "a = Matrix([a1, a2])\n",
    "b = Matrix([2,  -1])"
   ]
  },
  {
   "cell_type": "code",
   "execution_count": 7,
   "metadata": {},
   "outputs": [
    {
     "data": {
      "text/latex": [
       "$$\\left[\\begin{matrix}a_{1}\\\\a_{2}\\end{matrix}\\right]$$"
      ],
      "text/plain": [
       "⎡a₁⎤\n",
       "⎢  ⎥\n",
       "⎣a₂⎦"
      ]
     },
     "execution_count": 7,
     "metadata": {},
     "output_type": "execute_result"
    }
   ],
   "source": [
    "a"
   ]
  },
  {
   "cell_type": "code",
   "execution_count": 8,
   "metadata": {},
   "outputs": [
    {
     "data": {
      "text/latex": [
       "$$\\left[\\begin{matrix}2\\\\-1\\end{matrix}\\right]$$"
      ],
      "text/plain": [
       "⎡2 ⎤\n",
       "⎢  ⎥\n",
       "⎣-1⎦"
      ]
     },
     "execution_count": 8,
     "metadata": {},
     "output_type": "execute_result"
    }
   ],
   "source": [
    "b"
   ]
  },
  {
   "cell_type": "markdown",
   "metadata": {},
   "source": [
    "ベクトルの大きさは　$ ||ベクトル量|| $、または　$ |ベクトル量| $ で示す　\n",
    "例　$ ||a|| $, $ |b| $"
   ]
  },
  {
   "cell_type": "code",
   "execution_count": 9,
   "metadata": {},
   "outputs": [
    {
     "data": {
      "image/png": "[encoded data removed]",
      "text/latex": [
       "$$\\sqrt{\\left|{a_{1}}\\right|^{2} + \\left|{a_{2}}\\right|^{2}}$$"
      ],
      "text/plain": [
       "   _______________\n",
       "  ╱     2       2 \n",
       "╲╱  │a₁│  + │a₂│  "
      ]
     },
     "execution_count": 9,
     "metadata": {},
     "output_type": "execute_result"
    }
   ],
   "source": [
    "a.norm()"
   ]
  },
  {
   "cell_type": "code",
   "execution_count": 10,
   "metadata": {},
   "outputs": [
    {
     "data": {
      "image/png": "[encoded data removed]",
      "text/latex": [
       "$$\\sqrt{a_{1}^{2} + a_{2}^{2}}$$"
      ],
      "text/plain": [
       "   ___________\n",
       "  ╱   2     2 \n",
       "╲╱  a₁  + a₂  "
      ]
     },
     "execution_count": 10,
     "metadata": {},
     "output_type": "execute_result"
    }
   ],
   "source": [
    "from sympy import *\n",
    "sqrt(a[0]**2+a[1]**2)"
   ]
  },
  {
   "cell_type": "code",
   "execution_count": 11,
   "metadata": {},
   "outputs": [
    {
     "data": {
      "image/png": "[encoded data removed]",
      "text/latex": [
       "$$\\sqrt{5}$$"
      ],
      "text/plain": [
       "√5"
      ]
     },
     "execution_count": 11,
     "metadata": {},
     "output_type": "execute_result"
    }
   ],
   "source": [
    "b.norm()"
   ]
  },
  {
   "cell_type": "code",
   "execution_count": 12,
   "metadata": {},
   "outputs": [
    {
     "data": {
      "image/png": "[encoded data removed]",
      "text/latex": [
       "$$\\sqrt{5}$$"
      ],
      "text/plain": [
       "√5"
      ]
     },
     "execution_count": 12,
     "metadata": {},
     "output_type": "execute_result"
    }
   ],
   "source": [
    "sqrt(b[0]**2+b[1]**2)"
   ]
  },
  {
   "cell_type": "markdown",
   "metadata": {},
   "source": [
    "<!-- \n",
    "#u = b - ( (transpose(a) * b ) / a.norm()**2 ).norm() * a\n",
    "# u.normalized()\n",
    "\n",
    "-->"
   ]
  },
  {
   "cell_type": "markdown",
   "metadata": {},
   "source": [
    "ベクトルの図を書いてみる　成分（５，７）で原点からベクトルを引いた図を以下に示す。"
   ]
  },
  {
   "cell_type": "code",
   "execution_count": 13,
   "metadata": {},
   "outputs": [
    {
     "data": {
      "image/png": "[encoded data removed]",
      "text/plain": [
       "<matplotlib.figure.Figure at 0x9bfff50>"
      ]
     },
     "metadata": {},
     "output_type": "display_data"
    }
   ],
   "source": [
    "import numpy as np\n",
    "import matplotlib.pyplot as plt\n",
    "\n",
    "plt.figure()\n",
    "\n",
    "# 矢印（ベクトル）の始点\n",
    "X = 0\n",
    "Y = 0\n",
    "# 矢印（ベクトル）の成分\n",
    "U = 5\n",
    "V = 7\n",
    "\n",
    "# 矢印（ベクトル）\n",
    "plt.quiver(X,Y,U,V,angles='xy',scale_units='xy',scale=1)\n",
    "\n",
    "# グラフ表示\n",
    "plt.xlim([-10,10])\n",
    "plt.ylim([-10,10])\n",
    "plt.grid()\n",
    "plt.draw()\n",
    "plt.show()"
   ]
  },
  {
   "cell_type": "markdown",
   "metadata": {},
   "source": [
    "### ベクトルの和\n",
    "2次元ベクトルのでの和の計算について\n",
    "\n",
    "$  \\boldsymbol{a}=(a_1 , a_2),  \\boldsymbol{b}=(b_1 , b_2)  $とすると和（＋）の演算は\n",
    "\n",
    "$  \\boldsymbol{a}+ \\boldsymbol{b} = (a_1+b_1 , a_2+b_2 )$となる\n",
    "###### 交換法則\n",
    "$  \\boldsymbol{a}+ \\boldsymbol{b} =  \\boldsymbol{b}+ \\boldsymbol{a} $  \n",
    "###### 結合法則\n",
    "$  (\\boldsymbol{a}+ \\boldsymbol{b})+ \\boldsymbol{c} = \\boldsymbol{a}+ (\\boldsymbol{b}+ \\boldsymbol{c}) $"
   ]
  },
  {
   "cell_type": "markdown",
   "metadata": {},
   "source": [
    "#### ゼロベクトル\n",
    "すべての成分が０であるベクトル\n",
    "\n",
    "例として２次元の時は　$ \\boldsymbol{0} = (0,0) $\n",
    "\n",
    "#### 逆ベクトル\n",
    "\n",
    "ベクトルの大きさが等しく、方向が逆なベクトルを逆ベクトルという\n",
    "\n",
    "$\\boldsymbol{a}$の逆ベクトルを$ -\\boldsymbol{a}$と表す、$ -\\boldsymbol{a}=(-a_1 , -a_2)$\n",
    "\n",
    "２つのベクトルの差は、和と逆ベクトルにより   $ \\boldsymbol{a}=(a_1 , a_2),  \\boldsymbol{b}=(b_1 , b_2) $\n",
    "\n",
    "$\\boldsymbol{a}- \\boldsymbol{b} = \\boldsymbol{a}+ (- \\boldsymbol{b})$と定める\n",
    "$\\boldsymbol{a}- \\boldsymbol{b} = (a_1,a_2)+(-b_1,-b_2)=(a_1-b_1,a_2-b_2)$\n"
   ]
  },
  {
   "cell_type": "markdown",
   "metadata": {},
   "source": [
    "### ベクトルのスカラー倍（ここでは、スカラーを実数で説明する）\n",
    "\n",
    "$k$,$l$をスカラーとする\n",
    "\n",
    "$k\\boldsymbol{a}=k(a_1,a_2)=(ka_1,ka_2) $\n",
    "\n",
    "(1) 1 $\\boldsymbol{a}=\\boldsymbol{a} $,   (-1) $\\boldsymbol{a}=-\\boldsymbol{a} $\n",
    "\n",
    "(2) $k ( \\boldsymbol{a}+ \\boldsymbol{b})= k \\boldsymbol{a}+k \\boldsymbol{b}$\n",
    "\n",
    "(3) $(k+l)  \\boldsymbol{a}= k \\boldsymbol{a}+l \\boldsymbol{a}$\n",
    "\n",
    "(4) $ k(l\\boldsymbol{a}) = (kl)\\boldsymbol{a}$\n",
    "\n",
    "(5) $|k \\boldsymbol{a} | = |k|\\cdot| \\boldsymbol{a}|$\n",
    "\n",
    "\n"
   ]
  },
  {
   "cell_type": "markdown",
   "metadata": {},
   "source": [
    "###  単位ベクトル\n",
    "\n",
    "大きさが１であるベクトルのことをいう\n",
    "\n",
    "あるベクトル$\\boldsymbol{a}$を大きさ１にしたベクトル $\\boldsymbol{n}$を作るには以下のようにする\n",
    "\n",
    "$$ \\boldsymbol{n} = \\frac{ \\boldsymbol{a} }{|\\boldsymbol{a}| } $$\n",
    "\n",
    "### 基本ベクトル\n",
    "\n",
    "大きさが１であるベクトルで、各軸の正方向を向いたベクトルをいう\n",
    "\n",
    "3次元のベクトルでは基本ベクトル（　x軸方向　$\\boldsymbol{i}$,　　y軸方向　$\\boldsymbol{j}$,　　z軸方向　$ \\boldsymbol{k}$　）\n",
    "\n",
    "その成分表現では　$\\boldsymbol{i}=(1,0,0)$,　　$\\boldsymbol{j}=(0,1,0)$,　　$\\boldsymbol{k}=(0,0,1)$"
   ]
  },
  {
   "cell_type": "markdown",
   "metadata": {},
   "source": [
    "注意）平行なベクトルとは、同じ方向を向いているものと、その逆方向を向いているものの２つがあること"
   ]
  },
  {
   "cell_type": "markdown",
   "metadata": {},
   "source": [
    "問1.1　(1)$\\vec{OA}$"
   ]
  },
  {
   "cell_type": "code",
   "execution_count": 14,
   "metadata": {},
   "outputs": [
    {
     "data": {
      "text/latex": [
       "$$\\left[\\begin{matrix}3\\\\1\\end{matrix}\\right]$$"
      ],
      "text/plain": [
       "⎡3⎤\n",
       "⎢ ⎥\n",
       "⎣1⎦"
      ]
     },
     "execution_count": 14,
     "metadata": {},
     "output_type": "execute_result"
    }
   ],
   "source": [
    "Oa ,a,O = symbols('Oa a O')\n",
    "a = Matrix([3, 1])\n",
    "O = Matrix([0,  0])\n",
    "Oa = a-O\n",
    "Oa"
   ]
  },
  {
   "cell_type": "code",
   "execution_count": 15,
   "metadata": {},
   "outputs": [
    {
     "data": {
      "image/png": "[encoded data removed]",
      "text/plain": [
       "<matplotlib.figure.Figure at 0x9af46d0>"
      ]
     },
     "metadata": {},
     "output_type": "display_data"
    }
   ],
   "source": [
    "fig = plt.figure(figsize=(4,4))\n",
    "ax = fig.add_subplot(111)\n",
    "a1 = mpatches.Arrow(x=0,y=0,dx=3,dy=1,width=0.5,color='red' )\n",
    "ax.set_xlim([0, 4])\n",
    "ax.set_ylim([0, 4])\n",
    "ax.add_patch(a1)\n",
    "ax.grid()\n",
    "plt.show()"
   ]
  },
  {
   "cell_type": "markdown",
   "metadata": {},
   "source": [
    "問１．１　(3)$\\vec{AB}$"
   ]
  },
  {
   "cell_type": "code",
   "execution_count": 16,
   "metadata": {},
   "outputs": [
    {
     "data": {
      "text/latex": [
       "$$\\left[\\begin{matrix}-2\\\\1\\end{matrix}\\right]$$"
      ],
      "text/plain": [
       "⎡-2⎤\n",
       "⎢  ⎥\n",
       "⎣1 ⎦"
      ]
     },
     "execution_count": 16,
     "metadata": {},
     "output_type": "execute_result"
    }
   ],
   "source": [
    "ab ,a,b = symbols('ab a b')\n",
    "a = Matrix([3, 1])  # a=(3,1) を定義した\n",
    "b = Matrix([1, 2])  # b=(1,2) を定義した\n",
    "ab = b-a            # ベクトルabを 計算している\n",
    "ab                  # ベクトルabの値を表示"
   ]
  },
  {
   "cell_type": "code",
   "execution_count": 17,
   "metadata": {},
   "outputs": [
    {
     "data": {
      "image/png": "[encoded data removed]",
      "text/plain": [
       "<matplotlib.figure.Figure at 0x9c03e50>"
      ]
     },
     "metadata": {},
     "output_type": "display_data"
    }
   ],
   "source": [
    "fig = plt.figure(figsize=(4,4))\n",
    "ax = fig.add_subplot(111)\n",
    "a1 = mpatches.Arrow(x=3,y=1,dx=-2,dy=1,width=0.5,color='red' )\n",
    "ax.set_xlim([0, 4])\n",
    "ax.set_ylim([0, 4])\n",
    "ax.add_patch(a1)\n",
    "ax.grid(linestyle='-')\n",
    "plt.show()"
   ]
  },
  {
   "cell_type": "markdown",
   "metadata": {},
   "source": [
    "問１．５　(5) $\\boldsymbol{a}$と平行な大きさ１のベクトル\n",
    "\n",
    "注意）大きさを１にするために、$ \\boldsymbol{n} = \\frac{ \\boldsymbol{a} }{|\\boldsymbol{a}|} $をすること、平行とは、方向が逆のものも答えなので、±を答えにつけること"
   ]
  },
  {
   "cell_type": "code",
   "execution_count": 18,
   "metadata": {},
   "outputs": [
    {
     "data": {
      "text/latex": [
       "$$\\left[\\begin{matrix}\\frac{\\sqrt{5}}{5}\\\\\\frac{2 \\sqrt{5}}{5}\\end{matrix}\\right]$$"
      ],
      "text/plain": [
       "⎡ √5 ⎤\n",
       "⎢ ── ⎥\n",
       "⎢ 5  ⎥\n",
       "⎢    ⎥\n",
       "⎢2⋅√5⎥\n",
       "⎢────⎥\n",
       "⎣ 5  ⎦"
      ]
     },
     "execution_count": 18,
     "metadata": {},
     "output_type": "execute_result"
    }
   ],
   "source": [
    "a,b= symbols('a,b')\n",
    "a = Matrix([1, 2])\n",
    "b = Matrix([-2,3])\n",
    "a.norm()\n",
    "a/(a.norm())"
   ]
  },
  {
   "cell_type": "code",
   "execution_count": 19,
   "metadata": {},
   "outputs": [
    {
     "data": {
      "text/latex": [
       "$$\\left[\\begin{matrix}- \\frac{\\sqrt{5}}{5}\\\\- \\frac{2 \\sqrt{5}}{5}\\end{matrix}\\right]$$"
      ],
      "text/plain": [
       "⎡ -√5  ⎤\n",
       "⎢ ──── ⎥\n",
       "⎢  5   ⎥\n",
       "⎢      ⎥\n",
       "⎢-2⋅√5 ⎥\n",
       "⎢──────⎥\n",
       "⎣  5   ⎦"
      ]
     },
     "execution_count": 19,
     "metadata": {},
     "output_type": "execute_result"
    }
   ],
   "source": [
    "-a/(a.norm())"
   ]
  },
  {
   "cell_type": "markdown",
   "metadata": {},
   "source": [
    "問1.6 (4) $ |3\\boldsymbol{a}- 2\\boldsymbol{b}| $"
   ]
  },
  {
   "cell_type": "code",
   "execution_count": 20,
   "metadata": {},
   "outputs": [
    {
     "data": {
      "text/latex": [
       "$$\\left[\\begin{matrix}7\\\\0\\\\-11\\end{matrix}\\right]$$"
      ],
      "text/plain": [
       "⎡ 7 ⎤\n",
       "⎢   ⎥\n",
       "⎢ 0 ⎥\n",
       "⎢   ⎥\n",
       "⎣-11⎦"
      ]
     },
     "execution_count": 20,
     "metadata": {},
     "output_type": "execute_result"
    }
   ],
   "source": [
    "a,b= symbols('a,b')\n",
    "a = Matrix([1, 2,-1])\n",
    "b = Matrix([-2,3,4])\n",
    "3*a-2*b"
   ]
  },
  {
   "cell_type": "code",
   "execution_count": 21,
   "metadata": {},
   "outputs": [
    {
     "data": {
      "image/png": "[encoded data removed]",
      "text/latex": [
       "$$\\sqrt{170}$$"
      ],
      "text/plain": [
       "√170"
      ]
     },
     "execution_count": 21,
     "metadata": {},
     "output_type": "execute_result"
    }
   ],
   "source": [
    "(3*a-2*b).norm()"
   ]
  },
  {
   "cell_type": "markdown",
   "metadata": {},
   "source": [
    "####  右手系\n",
    "\n",
    "<img src=\"fig-1-2.png\">\n",
    "\n",
    "fig-1-2.png\n"
   ]
  },
  {
   "cell_type": "markdown",
   "metadata": {},
   "source": [
    "####  右ネジ\n",
    "\n",
    "<img src=\"fig-1-1.png\">\n",
    "\n",
    "fig-1-1.png\n"
   ]
  },
  {
   "cell_type": "code",
   "execution_count": null,
   "metadata": {},
   "outputs": [],
   "source": []
  }
 ],
 "metadata": {
  "kernelspec": {
   "display_name": "Python 3",
   "language": "python",
   "name": "python3"
  },
  "language_info": {
   "codemirror_mode": {
    "name": "ipython",
    "version": 3
   },
   "file_extension": ".py",
   "mimetype": "text/x-python",
   "name": "python",
   "nbconvert_exporter": "python",
   "pygments_lexer": "ipython3",
   "version": "3.7.3"
  }
 },
 "nbformat": 4,
 "nbformat_minor": 2
}
