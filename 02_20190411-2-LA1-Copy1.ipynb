{
 "cells": [
  {
   "cell_type": "markdown",
   "metadata": {
    "slideshow": {
     "slide_type": "-"
    }
   },
   "source": [
    "2019年度\n",
    "線形代数　I　講座資料\n",
    "\n",
    "資料番号　No.2 \n",
    "\n",
    "### [2]ベクトルの内積\n"
   ]
  },
  {
   "cell_type": "markdown",
   "metadata": {
    "slideshow": {
     "slide_type": "-"
    }
   },
   "source": [
    "####  ベクトルの内積(スカラー積)\n",
    "\n",
    "ベクトルの $\\boldsymbol{a},\\boldsymbol{b}$が$\\boldsymbol{O}$でないとき、ベクトルの始点を同じに取り $\\boldsymbol{a},\\boldsymbol{b}$のなす角を$\\theta$とするとき\n",
    "\n",
    "<img src=\"fig-2-0.png\">\n",
    "\n",
    "fig-2-0.png\n",
    "\n",
    "\n",
    "$ \\boldsymbol{a}\\cdot \\boldsymbol{b}= |\\boldsymbol{a}||\\boldsymbol{b}|cos\\theta$を $\\boldsymbol{a},\\boldsymbol{b}$の内積をいう　 $0^\\circ \\leqq \\theta \\leqq 180^\\circ $ \n",
    "\n",
    "<img src=\"fig-2-1.png\">fig-2-1.png\n",
    "<img src=\"fig-2-2.png\">fig-2-2.png\n",
    "<img src=\"fig-2-3.png\">fig-2-3.png"
   ]
  },
  {
   "cell_type": "markdown",
   "metadata": {},
   "source": [
    "ベクトルが成分の時に表示される時の内積の計算\n",
    "\n",
    "$ \\boldsymbol{a}= (a_1, a_2 ), \\boldsymbol{b}= (b_1, b_2 )$の時\n",
    "\n",
    "　$ \\boldsymbol{a}\\cdot \\boldsymbol{b}= a_1 b_1 + a_2 b_2 $\n",
    "\n",
    "成分が多くある時には、\n",
    "\n",
    "$ \\boldsymbol{a}= (a_1, a_2 ,a_3,\\ldots ), \\boldsymbol{b}= (b_1, b_2 ,b_3,\\ldots )$の時\n",
    "\n",
    "$ \\boldsymbol{a}\\cdot \\boldsymbol{b}= a_1 b_1 + a_2 b_2 + a_3 b_3 + \\ldots $\n"
   ]
  },
  {
   "cell_type": "markdown",
   "metadata": {},
   "source": [
    "内積の性質\n",
    "\n",
    "(1)　$ \\boldsymbol{a}\\cdot \\boldsymbol{b}=  \\boldsymbol{b}\\cdot \\boldsymbol{a} $\n",
    "\n",
    "(2)　$\\boldsymbol{a}\\cdot( \\boldsymbol{b}+ \\boldsymbol{c} )= \\boldsymbol{a}\\cdot \\boldsymbol{b}+\\boldsymbol{a}\\cdot\\boldsymbol{c} $\n",
    "\n",
    "　　$(\\boldsymbol{a}+ \\boldsymbol{b}) \\cdot \\boldsymbol{c} = \\boldsymbol{a}\\cdot \\boldsymbol{c}+\\boldsymbol{b}\\cdot\\boldsymbol{c} $\n",
    "\n",
    "(3)　$(k\\boldsymbol{a}) \\cdot\\boldsymbol{b}=k (\\boldsymbol{a} \\cdot\\boldsymbol{b})$,\n",
    "　　　$\\boldsymbol{a} \\cdot (k\\boldsymbol{b})=k (\\boldsymbol{a} \\cdot\\boldsymbol{b}) $\n",
    "   \n",
    "(4)　$\\boldsymbol{a}\\cdot \\boldsymbol{a} = |\\boldsymbol{a}|^2 $\n",
    "\n"
   ]
  },
  {
   "cell_type": "markdown",
   "metadata": {},
   "source": [
    "内積の式を変形して見ると\n",
    "$$\n",
    "cos \\theta= \\frac{  \\boldsymbol{a}\\cdot \\boldsymbol{b} }{  |\\boldsymbol{a}||\\boldsymbol{b}| }\n",
    "$$\n",
    "と表せる"
   ]
  },
  {
   "cell_type": "markdown",
   "metadata": {},
   "source": [
    "直交条件\n",
    "\n",
    "ベクトルの $\\boldsymbol{a},\\boldsymbol{b}$が$\\boldsymbol{O}$でなければ\n",
    "\n",
    "$ \\boldsymbol{a},\\boldsymbol{b}$ が直交する $\\Longleftrightarrow $  $\\boldsymbol{a}\\cdot \\boldsymbol{b}=0 $\n"
   ]
  },
  {
   "cell_type": "markdown",
   "metadata": {},
   "source": [
    "ベクトルの大きさの関係と三角不等式について\n",
    "\n",
    "$|\\boldsymbol{a} \\cdot\\boldsymbol{b}|\\leqq  |\\boldsymbol{a}||\\boldsymbol{b}| $\n",
    "\n",
    "$|\\boldsymbol{a}+ \\boldsymbol{b}|\\leqq  |\\boldsymbol{a}| + |\\boldsymbol{b}| $\n",
    "\n",
    "$|\\boldsymbol{a}- \\boldsymbol{b}|\\geqq  |\\boldsymbol{a}| - |\\boldsymbol{b}| $\n",
    "\n",
    "$|\\boldsymbol{a}- \\boldsymbol{c}|\\leqq  |\\boldsymbol{a}- \\boldsymbol{b}|+  |\\boldsymbol{b}- \\boldsymbol{c}|$"
   ]
  },
  {
   "cell_type": "code",
   "execution_count": 7,
   "metadata": {},
   "outputs": [],
   "source": [
    "from sympy import *\n",
    "init_printing()\n",
    "#init_session()"
   ]
  },
  {
   "cell_type": "code",
   "execution_count": 2,
   "metadata": {},
   "outputs": [],
   "source": [
    "import numpy as np\n",
    "from matplotlib import pyplot\n",
    "import matplotlib.pyplot as plt\n",
    "import matplotlib.patches as mpatches "
   ]
  },
  {
   "cell_type": "code",
   "execution_count": 3,
   "metadata": {},
   "outputs": [
    {
     "data": {
      "image/png": "[encoded data removed]",
      "text/plain": [
       "<matplotlib.figure.Figure at 0x886c890>"
      ]
     },
     "metadata": {},
     "output_type": "display_data"
    }
   ],
   "source": [
    "fig = plt.figure(figsize=(4,4))\n",
    "ax = fig.add_subplot(111)\n",
    "\n",
    "a1x=4 ;a1y=5 ;a2x=6 ;a2y=2\n",
    "\n",
    "a1 = mpatches.Arrow(x=0,y=0,dx=a1x,dy= a1y,width=1,color='red' )\n",
    "a2 = mpatches.Arrow(x=0,y=0,dx=a2x,dy= a2y,width=1,color='blue' )\n",
    "ax.set_xlim([0, 10])\n",
    "ax.set_ylim([0, 10])\n",
    "ax.add_patch(a1)\n",
    "ax.add_patch(a2)\n",
    "ax.text(a1x,a1y,'a1',size=20)\n",
    "ax.text(a2x,a2y,'a2',size=20)\n",
    "ax.grid(linestyle='-')\n",
    "plt.show()"
   ]
  },
  {
   "cell_type": "code",
   "execution_count": 9,
   "metadata": {},
   "outputs": [
    {
     "data": {
      "image/png": "[encoded data removed]",
      "text/latex": [
       "$$a_{1} b_{1} + a_{2} b_{2}$$"
      ],
      "text/plain": [
       "a₁⋅b₁ + a₂⋅b₂"
      ]
     },
     "execution_count": 9,
     "metadata": {},
     "output_type": "execute_result"
    }
   ],
   "source": [
    "a, b,a1,a2,b1,b2 = symbols('a b a1 a2 b1 b2')\n",
    "a = Matrix([a1, a2])\n",
    "b = Matrix([b1, b2])\n",
    "# a.T * b　　　　　　　　# a とｂの内積を計算している\n",
    "a.dot(b)                 # a とｂの内積を計算している"
   ]
  },
  {
   "cell_type": "code",
   "execution_count": 10,
   "metadata": {},
   "outputs": [
    {
     "data": {
      "image/png": "[encoded data removed]",
      "text/latex": [
       "$$22$$"
      ],
      "text/plain": [
       "22"
      ]
     },
     "execution_count": 10,
     "metadata": {},
     "output_type": "execute_result"
    }
   ],
   "source": [
    "# ベクトル　a =(2,5) ,b=(6,5) での内積計算の例\n",
    "\n",
    "a, b,a1,a2,b1,b2 = symbols('a b a1 a2 b1 b2')\n",
    "a = Matrix([2, 5])\n",
    "b = Matrix([6, 2])\n",
    "# a.T * b　　　　　　# a とｂの内積を計算している\n",
    "a.dot(b)             # a とｂの内積を計算している"
   ]
  },
  {
   "cell_type": "code",
   "execution_count": 11,
   "metadata": {},
   "outputs": [
    {
     "data": {
      "image/png": "[encoded data removed]",
      "text/latex": [
       "$$\\frac{\\sqrt{2}}{2}$$"
      ],
      "text/plain": [
       "√2\n",
       "──\n",
       "2 "
      ]
     },
     "execution_count": 11,
     "metadata": {},
     "output_type": "execute_result"
    }
   ],
   "source": [
    "# 例題　１．３ （1）\n",
    "a, b,c,t = symbols('a b c t')\n",
    "a = Matrix([3, 1])\n",
    "b = Matrix([1, 2])\n",
    "c = Matrix([t-6, t**2])\n",
    "#  (a.T * b)/(a.norm() * b.norm()) \n",
    "a.dot(b)/(a.norm() * b.norm())   # a ・ｂ／（|a||b|）を計算している\n"
   ]
  },
  {
   "cell_type": "code",
   "execution_count": 12,
   "metadata": {},
   "outputs": [
    {
     "data": {
      "image/png": "[encoded data removed]",
      "text/latex": [
       "$$t^{2} + 3 t - 18$$"
      ],
      "text/plain": [
       " 2           \n",
       "t  + 3⋅t - 18"
      ]
     },
     "execution_count": 12,
     "metadata": {},
     "output_type": "execute_result"
    }
   ],
   "source": [
    "# 例題　１．３ （2）のための式\n",
    "a.dot(c)"
   ]
  },
  {
   "cell_type": "code",
   "execution_count": 13,
   "metadata": {},
   "outputs": [
    {
     "data": {
      "image/png": "[encoded data removed]",
      "text/latex": [
       "$$\\left [ \\left \\{ t : -6\\right \\}, \\quad \\left \\{ t : 3\\right \\}\\right ]$$"
      ],
      "text/plain": [
       "[{t: -6}, {t: 3}]"
      ]
     },
     "execution_count": 13,
     "metadata": {},
     "output_type": "execute_result"
    }
   ],
   "source": [
    "# 例題　１．３ （2）上の式=0として、ｔについて解くと\n",
    "solve(a.dot(c) ,0,t)"
   ]
  },
  {
   "cell_type": "markdown",
   "metadata": {},
   "source": [
    "\n"
   ]
  }
 ],
 "metadata": {
  "kernelspec": {
   "display_name": "Python 3",
   "language": "python",
   "name": "python3"
  },
  "language_info": {
   "codemirror_mode": {
    "name": "ipython",
    "version": 3
   },
   "file_extension": ".py",
   "mimetype": "text/x-python",
   "name": "python",
   "nbconvert_exporter": "python",
   "pygments_lexer": "ipython3",
   "version": "3.7.3"
  }
 },
 "nbformat": 4,
 "nbformat_minor": 2
}
