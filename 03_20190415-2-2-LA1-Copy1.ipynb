{
 "cells": [
  {
   "cell_type": "markdown",
   "metadata": {},
   "source": [
    "2019年度\n",
    "線形代数　I　講座資料\n",
    "\n",
    "資料番号　No.2-2 \n",
    "\n",
    "### [2-2]ベクトルの外積\n"
   ]
  },
  {
   "cell_type": "markdown",
   "metadata": {},
   "source": [
    "### 　外積　（ベクトル積）\n",
    "$ \\boldsymbol{ a }$と$ \\boldsymbol{ b } $の 外積は\n",
    "\n",
    "$ \\boldsymbol{ a } \\times\\boldsymbol{ b } $\n",
    "で表す\n",
    "\n",
    "外積の大きさは、\n",
    "$ |\\boldsymbol{a} \\times \\boldsymbol{b}|= |\\boldsymbol{a}||\\boldsymbol{b}|sin\\theta$\n",
    "\n",
    "ただし、なす角$ \\theta $は$0^\\circ \\leqq \\theta \\leqq 180^\\circ $の範囲である \n",
    "\n",
    "$\\boldsymbol{a}=O$ または,$\\boldsymbol{b}=O$のとき、$ \\boldsymbol{a} \\times \\boldsymbol{b}=O$ \n",
    "\n",
    "外積の方向について\n",
    "$ \\boldsymbol{ a } \\times\\boldsymbol{ b } $のとき、\n",
    "\n",
    "ベクトル $ \\boldsymbol{ a }$を、ベクトル $ \\boldsymbol{ b}$に重なるように回転したときに、その回転で右ねじが進む方向とする。\n",
    "$ \\boldsymbol{ a } \\times\\boldsymbol{ b } $は$ \\boldsymbol{ a }$と $ \\boldsymbol{ b}$の両方ともに直角である\n",
    "\n",
    "<img src=\"fig-2-2-1.png\"> fig-2-2-1.png\n",
    "<img src=\"fig-2-2-2.png\"> fig-2-2-2.png\n"
   ]
  },
  {
   "cell_type": "markdown",
   "metadata": {},
   "source": [
    "外積の性質　$k$は実数\n",
    "\n",
    "(1) $ |\\boldsymbol{a} \\times \\boldsymbol{b}|= |\\boldsymbol{a}||\\boldsymbol{b}|sin\\theta$\n",
    "\n",
    "(2) $\\boldsymbol{a} \\times (\\boldsymbol{b}+\\boldsymbol{c})=  \\boldsymbol{a} \\times\\boldsymbol{b}+ \\boldsymbol{a} \\times \\boldsymbol{c}  $\n",
    "\n",
    "　 $(\\boldsymbol{a}+ \\boldsymbol{b}) \\times \\boldsymbol{c}=  \\boldsymbol{a} \\times\\boldsymbol{c}+ \\boldsymbol{b} \\times \\boldsymbol{c}  $\n",
    "\n",
    "(3)$ (k \\boldsymbol{a})\\times\\boldsymbol{b} = k(\\boldsymbol{a} \\times \\boldsymbol{b}) =  \\boldsymbol{a} \\times (k\\boldsymbol{b})$\n",
    "\n",
    "(4) $\\boldsymbol{a} \\times \\boldsymbol{a}=O$　（ゼロベクトル）\n",
    "\n",
    "(5) $\\boldsymbol{a} \\times \\boldsymbol{b}=-\\boldsymbol{b} \\times \\boldsymbol{a}$\n",
    "\n",
    "(6)  $(\\boldsymbol{a} \\times \\boldsymbol{b})\\cdot\\boldsymbol{a}=0$ （数のゼロ）\n",
    "\n",
    "  $(\\boldsymbol{a} \\times \\boldsymbol{b})\\cdot\\boldsymbol{b}=0$ （数のゼロ）\n",
    "\n"
   ]
  },
  {
   "cell_type": "markdown",
   "metadata": {},
   "source": [
    "基本ベクトルの外積\n",
    "\n",
    "$ \\boldsymbol{ i } \\times \\boldsymbol{ j } =\\boldsymbol{ k}$\n",
    "\n",
    "$ \\boldsymbol{ j } \\times \\boldsymbol{ k } =\\boldsymbol{ i}$\n",
    "\n",
    "\n",
    "成分による外積の計算方法\n",
    "\n",
    "$ \\boldsymbol{ a }= (a_1 , a_2, a_3)、 \\boldsymbol{b }= (b_1 , b_2, b_3) $とすると \n",
    "\n",
    "\n",
    " $\\boldsymbol{a} \\times \\boldsymbol{b}= ( a_2b_3 -a_3b_2 , a_3b_1 -a_1b_3 ,a_1b_2 -a_2b_1 )  $\n",
    " \n",
    " となる\n",
    "\n",
    "$\\begin{array}{cccccc}  a_1 & a_2 & a_3 &a_1 & a_2 & a_3 \\\\ b_1 & b_2 & b_3 &b_1 & b_2 & b_3\\\\     &a_2b_3 -a_3b_2 & a_3b_1 -a_1b_3 &a_1b_2 -a_2b_1  & &  \\end{array}　$\n"
   ]
  },
  {
   "cell_type": "code",
   "execution_count": 7,
   "metadata": {},
   "outputs": [],
   "source": [
    "from sympy import *\n",
    "init_printing()\n",
    "# init_session()"
   ]
  },
  {
   "cell_type": "code",
   "execution_count": 8,
   "metadata": {},
   "outputs": [],
   "source": [
    "import numpy as np\n",
    "from matplotlib import pyplot\n",
    "import matplotlib.pyplot as plt\n",
    "import matplotlib.patches as mpatches "
   ]
  },
  {
   "cell_type": "code",
   "execution_count": 11,
   "metadata": {},
   "outputs": [
    {
     "data": {
      "text/latex": [
       "$$\\left[\\begin{matrix}0\\\\0\\\\-26\\end{matrix}\\right]$$"
      ],
      "text/plain": [
       "⎡ 0 ⎤\n",
       "⎢   ⎥\n",
       "⎢ 0 ⎥\n",
       "⎢   ⎥\n",
       "⎣-26⎦"
      ]
     },
     "execution_count": 11,
     "metadata": {},
     "output_type": "execute_result"
    }
   ],
   "source": [
    "# 問1.13 (1)　　 Sympy による数式処理の計算\n",
    "a ,b,ab = symbols('a b ab ')\n",
    "\n",
    "# 外積の関数を定義\n",
    "def crossfn(a,b):\n",
    "    ab = Matrix([ a[1]*b[2]-a[2]*b[1],a[2]*b[0]-a[0]*b[2],a[0]*b[1]-a[1]*b[0] ])  # 外積の計算\n",
    "    return ab   \n",
    "\n",
    "# ベクトルを定義する\n",
    "a = Matrix([6, 2, 0])\n",
    "b = Matrix([4,-3, 0])\n",
    "\n",
    "#ab = crossfn(a,b) # 外積の計算\n",
    "#ab\n",
    "ab = a.cross(b)  # 外積の計算\n",
    "ab"
   ]
  },
  {
   "cell_type": "code",
   "execution_count": 12,
   "metadata": {},
   "outputs": [
    {
     "data": {
      "image/png": "[encoded data removed]",
      "text/latex": [
       "$$26$$"
      ],
      "text/plain": [
       "26"
      ]
     },
     "execution_count": 12,
     "metadata": {},
     "output_type": "execute_result"
    }
   ],
   "source": [
    "ab.norm()     # 外積の大きさ"
   ]
  },
  {
   "cell_type": "code",
   "execution_count": 107,
   "metadata": {},
   "outputs": [
    {
     "data": {
      "text/plain": [
       "array([  0,   0, -26])"
      ]
     },
     "execution_count": 107,
     "metadata": {},
     "output_type": "execute_result"
    }
   ],
   "source": [
    "# 問1.13 (1)　 numpy での数値計算\n",
    "\n",
    "v1 = np.array((6, 2, 0))\n",
    "v2 = np.array((4,-3 ,0))\n",
    "\n",
    "     #内積\n",
    "     # numpy.dot(v1,v2)    #=> 0\n",
    "#外積\n",
    "numpy.cross(v1,v2)  #=>[0 0 1] \n"
   ]
  },
  {
   "cell_type": "code",
   "execution_count": 13,
   "metadata": {},
   "outputs": [
    {
     "data": {
      "text/latex": [
       "$$\\left[\\begin{matrix}1\\\\1\\\\-1\\end{matrix}\\right]$$"
      ],
      "text/plain": [
       "⎡1 ⎤\n",
       "⎢  ⎥\n",
       "⎢1 ⎥\n",
       "⎢  ⎥\n",
       "⎣-1⎦"
      ]
     },
     "execution_count": 13,
     "metadata": {},
     "output_type": "execute_result"
    }
   ],
   "source": [
    "# 問1.14 (1)　 Sympy による数式処理の計算\n",
    "a ,b,c ,ab = symbols('a b c ab ')\n",
    "\n",
    "# 外積の計算の関数を定義する\n",
    "def crossfn(a,b):\n",
    "    ab = Matrix([ a[1]*b[2]-a[2]*b[1],a[2]*b[0]-a[0]*b[2],a[0]*b[1]-a[1]*b[0] ]) \n",
    "    return ab\n",
    "\n",
    "a = Matrix([0,1,1])\n",
    "b = Matrix([1,0,1])\n",
    "c = Matrix([1,1,0])\n",
    "\n",
    "#ab = crossfn(a,b) # 外積の計算\n",
    "#ab\n",
    "\n",
    "ab = a.cross(b)             # 外積の計算\n",
    "ab "
   ]
  },
  {
   "cell_type": "code",
   "execution_count": 14,
   "metadata": {},
   "outputs": [
    {
     "data": {
      "text/latex": [
       "$$\\left[\\begin{matrix}-1\\\\-1\\\\1\\end{matrix}\\right]$$"
      ],
      "text/plain": [
       "⎡-1⎤\n",
       "⎢  ⎥\n",
       "⎢-1⎥\n",
       "⎢  ⎥\n",
       "⎣1 ⎦"
      ]
     },
     "execution_count": 14,
     "metadata": {},
     "output_type": "execute_result"
    }
   ],
   "source": [
    "\n",
    "# 問1.14 (1)　 Sympy による数式処理の計算\n",
    "a ,b,c ,ab = symbols('a b c ab ')\n",
    "# 外積の関数を定義\n",
    "def crossfn(a,b):\n",
    "    ab = Matrix([ a[1]*b[2]-a[2]*b[1],a[2]*b[0]-a[0]*b[2],a[0]*b[1]-a[1]*b[0] ])  # 外積の計算\n",
    "    return ab   \n",
    "\n",
    "\n",
    "a = Matrix([0,1,1])\n",
    "b = Matrix([1,0,1])\n",
    "c = Matrix([1,1,0])\n",
    "\n",
    "ab = a  # aとｂの入れ替え\n",
    "a = b\n",
    "b = ab\n",
    "\n",
    "#ab = crossfn(a,b)\n",
    "#ab\n",
    "\n",
    "ab = a.cross(b)             # 外積の計算\n",
    "ab "
   ]
  },
  {
   "cell_type": "code",
   "execution_count": 16,
   "metadata": {},
   "outputs": [
    {
     "data": {
      "text/latex": [
       "$$\\left[\\begin{matrix}1\\\\-1\\\\0\\end{matrix}\\right]$$"
      ],
      "text/plain": [
       "⎡1 ⎤\n",
       "⎢  ⎥\n",
       "⎢-1⎥\n",
       "⎢  ⎥\n",
       "⎣0 ⎦"
      ]
     },
     "execution_count": 16,
     "metadata": {},
     "output_type": "execute_result"
    }
   ],
   "source": [
    "# 問1.14 (2)　 Sympy による数式処理の計算\n",
    "a ,b,c ,ab = symbols('a b c ab ')\n",
    "# 外積の関数を定義\n",
    "def crossfn(a,b):\n",
    "    ab = Matrix([ a[1]*b[2]-a[2]*b[1],a[2]*b[0]-a[0]*b[2],a[0]*b[1]-a[1]*b[0] ])  # 外積の計算\n",
    "    return ab \n",
    "\n",
    "a = Matrix([0,1,1])\n",
    "b = Matrix([1,0,1])\n",
    "c = Matrix([1,1,0])\n",
    "\n",
    "#crossfn(crossfn(a,b),c)\n",
    "\n",
    "(a.cross(b)).cross(c)"
   ]
  },
  {
   "cell_type": "code",
   "execution_count": 18,
   "metadata": {},
   "outputs": [
    {
     "data": {
      "text/latex": [
       "$$\\left[\\begin{matrix}0\\\\-1\\\\1\\end{matrix}\\right]$$"
      ],
      "text/plain": [
       "⎡0 ⎤\n",
       "⎢  ⎥\n",
       "⎢-1⎥\n",
       "⎢  ⎥\n",
       "⎣1 ⎦"
      ]
     },
     "execution_count": 18,
     "metadata": {},
     "output_type": "execute_result"
    }
   ],
   "source": [
    "#crossfn(a,crossfn(b,c))\n",
    "a.cross(b.cross(c))"
   ]
  },
  {
   "cell_type": "code",
   "execution_count": 21,
   "metadata": {},
   "outputs": [
    {
     "data": {
      "text/plain": [
       "array([ 1,  1, -1])"
      ]
     },
     "execution_count": 21,
     "metadata": {},
     "output_type": "execute_result"
    }
   ],
   "source": [
    "# 問1.14 (1)　 numpy での数値計算　　（別解）\n",
    "\n",
    "a = np.array((0,1,1))\n",
    "b = np.array((1,0,1))\n",
    "c = np.array((1,1,0))\n",
    "\n",
    "     #内積\n",
    "     # numpy.dot(v1,v2)    #=> 0\n",
    "#外積\n",
    "np.cross(a,b)  #=>[0 0 1] \n"
   ]
  },
  {
   "cell_type": "code",
   "execution_count": 22,
   "metadata": {},
   "outputs": [
    {
     "data": {
      "text/plain": [
       "array([-1, -1,  1])"
      ]
     },
     "execution_count": 22,
     "metadata": {},
     "output_type": "execute_result"
    }
   ],
   "source": [
    "numpy.cross(b,a)  #=>[0 0 1] "
   ]
  },
  {
   "cell_type": "code",
   "execution_count": 23,
   "metadata": {},
   "outputs": [
    {
     "data": {
      "text/plain": [
       "array([ 1, -1,  0])"
      ]
     },
     "execution_count": 23,
     "metadata": {},
     "output_type": "execute_result"
    }
   ],
   "source": [
    "# 問1.14 (2)\n",
    "np.cross(np.cross(a,b),c)"
   ]
  },
  {
   "cell_type": "code",
   "execution_count": 24,
   "metadata": {},
   "outputs": [
    {
     "data": {
      "text/plain": [
       "array([ 0, -1,  1])"
      ]
     },
     "execution_count": 24,
     "metadata": {},
     "output_type": "execute_result"
    }
   ],
   "source": [
    "np.cross(a,np.cross(b,c))"
   ]
  },
  {
   "cell_type": "code",
   "execution_count": 5,
   "metadata": {},
   "outputs": [
    {
     "data": {
      "text/latex": [
       "$$\\left[\\begin{matrix}8\\\\8\\\\-12\\end{matrix}\\right]$$"
      ],
      "text/plain": [
       "⎡ 8 ⎤\n",
       "⎢   ⎥\n",
       "⎢ 8 ⎥\n",
       "⎢   ⎥\n",
       "⎣-12⎦"
      ]
     },
     "execution_count": 5,
     "metadata": {},
     "output_type": "execute_result"
    }
   ],
   "source": [
    "# 例題　１．７ 　　Sympyによる解法\n",
    "\n",
    "a ,b,c,ab,ac,aba = symbols('a b c ab ac aba')\n",
    "# 外積の関数を定義\n",
    "def crossfn(a,b):\n",
    "    ab = Matrix([ a[1]*b[2]-a[2]*b[1],a[2]*b[0]-a[0]*b[2],a[0]*b[1]-a[1]*b[0] ])  # 外積の計算\n",
    "    return ab \n",
    "\n",
    "\n",
    "a = Matrix([-1, -1, 0])\n",
    "b = Matrix([1,  3, 4])\n",
    "c = Matrix([3,  1,4])\n",
    "ab = b-a\n",
    "ac = c-a\n",
    "# aba = crossfn(ab,ac)# 外積の計算\n",
    "#aba\n",
    "ab.cross(ac)"
   ]
  },
  {
   "cell_type": "code",
   "execution_count": 48,
   "metadata": {},
   "outputs": [
    {
     "data": {
      "image/png": "[encoded data removed]",
      "text/latex": [
       "$$4 \\sqrt{17}$$"
      ],
      "text/plain": [
       "4⋅√17"
      ]
     },
     "execution_count": 48,
     "metadata": {},
     "output_type": "execute_result"
    }
   ],
   "source": [
    "aba.norm()"
   ]
  },
  {
   "cell_type": "code",
   "execution_count": 49,
   "metadata": {},
   "outputs": [
    {
     "data": {
      "image/png": "[encoded data removed]",
      "text/latex": [
       "$$2 \\sqrt{17}$$"
      ],
      "text/plain": [
       "2⋅√17"
      ]
     },
     "execution_count": 49,
     "metadata": {},
     "output_type": "execute_result"
    }
   ],
   "source": [
    "aba.norm()/2"
   ]
  },
  {
   "cell_type": "code",
   "execution_count": 27,
   "metadata": {},
   "outputs": [
    {
     "data": {
      "text/plain": [
       "array([  8,   8, -12])"
      ]
     },
     "execution_count": 27,
     "metadata": {},
     "output_type": "execute_result"
    }
   ],
   "source": [
    "# 例題　１．７ 　 numpy での数値計算　（別解）\n",
    "\n",
    "a = np.array((-1,-1,0))\n",
    "b = np.array((1,3,4))\n",
    "c = np.array((3,1,4))\n",
    "\n",
    "ab = b-a\n",
    "ac = c-a\n",
    "numpy.cross(ab,ac)"
   ]
  },
  {
   "cell_type": "code",
   "execution_count": 35,
   "metadata": {},
   "outputs": [
    {
     "data": {
      "image/png": "[encoded data removed]",
      "text/latex": [
       "$$8.246211251235321$$"
      ],
      "text/plain": [
       "8.246211251235321"
      ]
     },
     "execution_count": 35,
     "metadata": {},
     "output_type": "execute_result"
    }
   ],
   "source": [
    "al = np.linalg.norm(numpy.cross(ab,ac))\n",
    "al/2"
   ]
  },
  {
   "cell_type": "code",
   "execution_count": 19,
   "metadata": {},
   "outputs": [
    {
     "data": {
      "text/latex": [
       "$$\\left[\\begin{matrix}b c\\\\a c\\\\a b\\end{matrix}\\right]$$"
      ],
      "text/plain": [
       "⎡b⋅c⎤\n",
       "⎢   ⎥\n",
       "⎢a⋅c⎥\n",
       "⎢   ⎥\n",
       "⎣a⋅b⎦"
      ]
     },
     "execution_count": 19,
     "metadata": {},
     "output_type": "execute_result"
    }
   ],
   "source": [
    "# 問１．６ (1)　Sympy による数式処理の計算\n",
    "A ,B,C,AB,AC,a,b,c,ab,ac,aba,d = symbols('A B C AB AC a b c ab ac aba d')\n",
    "\n",
    "# 外積の関数を定義\n",
    "def crossfn(a,b):\n",
    "    ab = Matrix([ a[1]*b[2]-a[2]*b[1],a[2]*b[0]-a[0]*b[2],a[0]*b[1]-a[1]*b[0] ])  # 外積の計算\n",
    "    return ab \n",
    "\n",
    "A = Matrix([a, 0, 0])\n",
    "B = Matrix([0, b, 0])\n",
    "C = Matrix([0, 0, c])\n",
    "\n",
    "AB = B-A\n",
    "AC = C-A\n",
    "\n",
    "#aba =crossfn(AB,AC)# 外積の計算\n",
    "#aba\n",
    "\n",
    "\n",
    "aba = AB.cross(AC)\n",
    "aba"
   ]
  },
  {
   "cell_type": "code",
   "execution_count": 20,
   "metadata": {},
   "outputs": [
    {
     "data": {
      "image/png": "[encoded data removed]",
      "text/latex": [
       "$$\\frac{1}{2} \\sqrt{\\left|{a b}\\right|^{2} + \\left|{a c}\\right|^{2} + \\left|{b c}\\right|^{2}}$$"
      ],
      "text/plain": [
       "   __________________________\n",
       "  ╱      2        2        2 \n",
       "╲╱  │a⋅b│  + │a⋅c│  + │b⋅c│  \n",
       "─────────────────────────────\n",
       "              2              "
      ]
     },
     "execution_count": 20,
     "metadata": {},
     "output_type": "execute_result"
    }
   ],
   "source": [
    "# 問１．６ (2)　大きさを求める\n",
    "\n",
    "aba.norm()/2"
   ]
  },
  {
   "cell_type": "code",
   "execution_count": 22,
   "metadata": {},
   "outputs": [
    {
     "data": {
      "image/png": "[encoded data removed]",
      "text/latex": [
       "$$\\frac{a b c}{\\sqrt{\\left|{a b}\\right|^{2} + \\left|{a c}\\right|^{2} + \\left|{b c}\\right|^{2}}}$$"
      ],
      "text/plain": [
       "            a⋅b⋅c            \n",
       "─────────────────────────────\n",
       "   __________________________\n",
       "  ╱      2        2        2 \n",
       "╲╱  │a⋅b│  + │a⋅c│  + │b⋅c│  "
      ]
     },
     "execution_count": 22,
     "metadata": {},
     "output_type": "execute_result"
    }
   ],
   "source": [
    "# 問１．６ (3)　Sympy による数式処理の計算\n",
    "\n",
    "A ,B,C,AB,AC,a,b,c,ab,ac,aba ,d= symbols('A B C AB AC a b c ab ac aba ,d')\n",
    "\n",
    "def crossfn(a,b):\n",
    "    ab = Matrix([ a[1]*b[2]-a[2]*b[1],a[2]*b[0]-a[0]*b[2],a[0]*b[1]-a[1]*b[0] ])  # 外積の計算\n",
    "    return ab \n",
    "\n",
    "A = Matrix([a, 0, 0])\n",
    "B = Matrix([0, b, 0])\n",
    "C = Matrix([0, 0, c])\n",
    "AB = B-A\n",
    "AC = C-A\n",
    "# aba =crossfn(AB,AC)# 外積の計算\n",
    "aba = AB.cross(AC)\n",
    "\n",
    "aba.norm()/2\n",
    "#d = aba.T * A / aba.norm()    \n",
    "d = aba.dot(A) / aba.norm()    \n",
    "d"
   ]
  },
  {
   "cell_type": "markdown",
   "metadata": {},
   "source": []
  }
 ],
 "metadata": {
  "kernelspec": {
   "display_name": "Python 3",
   "language": "python",
   "name": "python3"
  },
  "language_info": {
   "codemirror_mode": {
    "name": "ipython",
    "version": 3
   },
   "file_extension": ".py",
   "mimetype": "text/x-python",
   "name": "python",
   "nbconvert_exporter": "python",
   "pygments_lexer": "ipython3",
   "version": "3.7.3"
  }
 },
 "nbformat": 4,
 "nbformat_minor": 2
}
