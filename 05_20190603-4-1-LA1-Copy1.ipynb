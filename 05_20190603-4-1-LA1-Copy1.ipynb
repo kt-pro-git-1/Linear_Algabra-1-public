{
 "cells": [
  {
   "cell_type": "markdown",
   "metadata": {},
   "source": [
    "2019年度\n",
    "線形代数　I　講座資料\n",
    "\n",
    "資料番号　No.4-1 \n",
    "\n",
    "## [4-1] 　行列とその演算　\n"
   ]
  },
  {
   "cell_type": "markdown",
   "metadata": {},
   "source": [
    "\n",
    "行列 $A$ がm行n列のとき (　$m$x$n$行列 のとき　）\n",
    "\n",
    "$$\n",
    "A = \\left(\n",
    "\\begin{array}{ccc}\n",
    "a_{11} & a_{12} & \\ldots & a_{1n} \\\\\n",
    "a_{21} & a_{22} & \\ldots & a_{2n} \\\\\n",
    "\\vdots & \\vdots & \\ddots & \\vdots \\\\\n",
    "a_{m1} & a_{m2} & \\ldots & a_{mn} \n",
    "\\end{array}\n",
    "\\right)\n",
    "$$\n",
    "\n",
    "行列　$A$ は$(a_{ij})$と書く\n",
    "\n",
    "$A$の$(i,j)$成分は$a_{ij}$と書く　ここで、$i$は行の数字、$j$は列の数字 \n",
    "\n",
    "1xn 行列　 （n次行ベクトル）\n",
    "$$ ( a_1   a_2 \\ldots a_n　)  $$\n",
    "\n",
    "nx1 行列　（n次列ベクトル）\n",
    "\n",
    "$$\n",
    "\\left(  \\begin{array}{c}    a_1 \\\\    a_2 \\\\    \\vdots \\\\    a_n  \\end{array}\\right)\n",
    "$$"
   ]
  },
  {
   "cell_type": "markdown",
   "metadata": {},
   "source": [
    "行列の等号（＝）は\n",
    "対応する各成分が等しいとき、$ A=B$とかく\n",
    "\n",
    "\n",
    "$$(a_{ij}) =(b_{ij})$$では、\n",
    "$$ \\begin{array}{ccc}  a_{11} = b_{11}\\\\a_{12} = b_{12}\\\\ a_{13} = b_{13} \\\\ \\vdots \\end{array}$$\n",
    "\n"
   ]
  },
  {
   "cell_type": "markdown",
   "metadata": {},
   "source": [
    "###  行列の積\n",
    "$A = (a_{ij}) $  (　$m$x$n$行列 のとき　）\n",
    "$B = (b_{ij}) $  (　$n$x$p$行列 のとき　）\n",
    "$C = (c_{ij}) $  (　$m$x$p$行列 のとき　）\n",
    "\n",
    "$AB = C $\n",
    "\n",
    "($\\color{red}{m}$x$\\boxed{n}$)($\\boxed{n}$x($\\color{blue}{p}$) $\\Rightarrow$ ($\\color{red}{m}$x$\\color{blue}{p}$)\n",
    "\n",
    "積の前の行列の列数と後の行列の行数が等しい（　$\\boxed{n}$が等しい　）ことが積が成分する条件である\n"
   ]
  },
  {
   "cell_type": "markdown",
   "metadata": {},
   "source": [
    "例\n",
    "\n",
    "$A = (a_{ij}) $  (　$4$x$5$行列 のとき　）\n",
    "$B = (b_{ij}) $  (　$5$x$7$行列 のとき　）\n",
    "$C = (c_{ij}) $  (　$4$x$7$行列 のとき　）\n",
    "\n",
    "$AB = C $\n",
    "\n",
    "($\\color{red}{4}$x$\\boxed{5}$)($\\boxed{5}$x$\\color{blue}{7}$) $\\Rightarrow$ ($\\color{red}{4}$x$\\color{blue}{7}$)\n",
    "\n",
    "積の前の行列の列数と後の行列の行数が等しい（$\\boxed{5}$が等しい）ことが積が成分する条件である"
   ]
  },
  {
   "cell_type": "markdown",
   "metadata": {},
   "source": [
    "$\\begin{pmatrix} a & b & c\\\\ d & e & f \\end{pmatrix}\\begin{pmatrix} \\color{red}g &\\color{blue}h \\\\ \\color{red}i & \\color{blue}j\\\\ \\color{red}k &\\color{blue}l \\\\ \\end{pmatrix} =\\begin{pmatrix} ag+bi+ck & ah+bj+cl \\\\ dg+ei+fk & dh+ej+fl\\\\ \\end{pmatrix}$ \n",
    "\n",
    "この計算の手順を図で示したのが下図です，ただし，これは説明のための図であることに注意してください．\n",
    "\n",
    "<img src=\"fig-4-1.png\">fig-4-1.png"
   ]
  },
  {
   "cell_type": "markdown",
   "metadata": {},
   "source": [
    "## 積の結合法則\n",
    "\n",
    "###  $ (AB)C = A(BC) $\n",
    "### $ AB \\neq BA $  　　　 一般には交換法則は成立しない．\n"
   ]
  },
  {
   "cell_type": "markdown",
   "metadata": {},
   "source": [
    "## 連立方程式 について\n",
    "\n",
    "$\n",
    "  \\left\\{\n",
    "  \\begin{array}{l}\n",
    "      a_{11}x_1+a_{12}x_2+a_{13}x_3 + \\cdots + a_{1n}x_n & = b_1\\\\\n",
    "      a_{21}x_1+a_{22}x_2+a_{23}x_3 + \\cdots + a_{2n}x_n & = b_2\\\\\n",
    "        \\vdots                                           &  \\vdots \\\\\n",
    "      a_{m1}x_1+a_{m2}x_2+a_{m3}x_3 + \\cdots + a_{mn}x_n & = b_m\\\\\n",
    "  \\end{array}\n",
    "  \\right.\n",
    "$\n",
    "\n",
    "上記の連立方程式より\n",
    "\n",
    "$\n",
    "\\begin{eqnarray}\n",
    "A = \\left(\n",
    "  \\begin{array}{cccc}\n",
    "    a_{ 11 } & a_{ 12 } & \\ldots & a_{ 1n } \\\\\n",
    "    a_{ 21 } & a_{ 22 } & \\ldots & a_{ 2n } \\\\\n",
    "    \\vdots & \\vdots & \\ddots & \\vdots \\\\\n",
    "    a_{ m1 } & a_{ m2 } & \\ldots & a_{ mn }\n",
    "  \\end{array}\n",
    "\\right)\n",
    "\\end{eqnarray}\n",
    "$\n",
    "，$\\boldsymbol{x}$ = $\\left(  \\begin{array}{c}    x_1 \\\\    x_2 \\\\    \\vdots \\\\    x_n  \\end{array}\\right)$，$\\boldsymbol{b}$ = $\\left(  \\begin{array}{c}    b_1 \\\\    b_2 \\\\    \\vdots \\\\    b_n  \\end{array}\\right)$\t\n",
    "\n",
    "$A$を係数行列という．上記より\n",
    "\n",
    "$A$ $\\boldsymbol{x}$=$\\boldsymbol{b}$\n",
    "\n",
    "\n",
    "拡大係数行列は\n",
    "\n",
    "$\n",
    "\\begin{eqnarray}\n",
    "(Ab) = \\left(\n",
    "  \\begin{array}{cccc}\n",
    "    a_{ 11 } & a_{ 12 } & \\ldots & a_{ 1n }& \\color{red}{b_1} \\\\\n",
    "    a_{ 21 } & a_{ 22 } & \\ldots & a_{ 2n }&\\color{red}{b_2}\\\\\n",
    "    \\vdots & \\vdots & \\ddots & \\vdots \\\\\n",
    "    a_{ m1 } & a_{ m2 } & \\ldots & a_{ mn }&\\color{red}{b_n}\\\\\n",
    "  \\end{array}\n",
    "\\right)\n",
    "\\end{eqnarray}\n",
    "$\n"
   ]
  },
  {
   "cell_type": "markdown",
   "metadata": {},
   "source": [
    "### 行列の和，スカラー倍\n",
    "\n",
    "行列の和は同じ形の行列$A,B$で定義されている，和は対応する成分を加えることでできる行列を$A+B$と書いて行列$A,B$の和と定める\n",
    "\n",
    "$A+B = C $\n",
    "\n",
    "$a_{ij}+b_{ij} =c_{ij} $\n",
    "\n",
    "行列のスカラー倍（実数:$k$） 行列のすべての成分を$k$倍する\n",
    "\n",
    "$kA=(ka_{ij})$\n",
    "\n",
    "\n",
    "$(-1)A=-A$と書く\n",
    "\n",
    "\n",
    "ゼロ行列\n",
    "\n",
    "$O$はすべての成分が0 (ゼロ)である行列である\n",
    "\n",
    "$\n",
    "\\begin{eqnarray}\n",
    "O = \\left(\n",
    "  \\begin{array}{cccc}\n",
    "    0 &\\ldots & 0\\\\\n",
    "    0 &\\ldots &0 \\\\\n",
    "    \\vdots &  & \\vdots \\\\\n",
    "   0 & \\ldots &0\\\\\n",
    "  \\end{array}\n",
    "\\right)\n",
    "\\end{eqnarray}\n",
    "$\n",
    "\n",
    "\n",
    "行列のルール\n",
    "\n",
    "(1)　$(kA)B =A(kB)=k(AB)$\n",
    "\n",
    "(2)　$A(B+C)=AB+AC$\n",
    "\n",
    "　　　$(A+B)C=AC+BC$\n",
    "\n",
    "(3)　$AO=O,OA=O$\n",
    "\n",
    "\n",
    "\n",
    "### 転置行列\n",
    "\n",
    "mxn行列$A$の行と列を入れ替えて作られる行列を転置行列といい，${}^t \\!A$と書く\n",
    "\n",
    "\n",
    "\n",
    "内積を転置で表現すると，例えば\n",
    "$ \\boldsymbol{a}=(a_1　a_2)，　\\boldsymbol{b}=(b_1　b_2)$とおくと\n",
    "\n",
    "$  \\boldsymbol{a} {}^t\\boldsymbol{b}=(a_1　a_2)$ \n",
    "$ \\left(  \\begin{array}{c} b_1 \\\\ b_2 \\\\ \\end{array}\\right)$ = $a_1b_1 + a_2 b_2$\n",
    "\n",
    "となり，内積の結果と同じとなる．\n",
    "\n",
    "#### 転置行列の性質\n",
    "\n",
    "(1)　${}^t({}^t \\!A)=A$\n",
    "\n",
    "(2)　${}^t(A+B)={}^tA+{}^tB$\n",
    "\n",
    "(3)　${}^t(cA)=c{}^tA$\n",
    "\n",
    "(4)　${}^t(AB)={}^tB{}^tA$\n"
   ]
  },
  {
   "cell_type": "code",
   "execution_count": 1,
   "metadata": {},
   "outputs": [],
   "source": [
    "# 初めに1回だけ実行させる\n",
    "from sympy import *\n",
    "init_printing()\n",
    "# init_session()"
   ]
  },
  {
   "cell_type": "code",
   "execution_count": 2,
   "metadata": {},
   "outputs": [
    {
     "name": "stdout",
     "output_type": "stream",
     "text": [
      "A=\n"
     ]
    },
    {
     "data": {
      "text/latex": [
       "$$\\left[\\begin{matrix}1 & 2 & 1\\\\2 & 7 & -1\\end{matrix}\\right]$$"
      ],
      "text/plain": [
       "⎡1  2  1 ⎤\n",
       "⎢        ⎥\n",
       "⎣2  7  -1⎦"
      ]
     },
     "metadata": {},
     "output_type": "display_data"
    }
   ],
   "source": [
    "# 例　行列の例　ｐ３０\n",
    "A = Matrix([[1, 2, 1], [2, 7, -1]])\n",
    "\n",
    "print(\"A=\")\n",
    "display(A)"
   ]
  },
  {
   "cell_type": "code",
   "execution_count": 3,
   "metadata": {},
   "outputs": [
    {
     "data": {
      "image/png": "[encoded data removed]",
      "text/latex": [
       "$$\\left ( 2, \\quad 3\\right )$$"
      ],
      "text/plain": [
       "(2, 3)"
      ]
     },
     "execution_count": 3,
     "metadata": {},
     "output_type": "execute_result"
    }
   ],
   "source": [
    "# 行列Aの形を求める Aは２ｘ３行列\n",
    "A.shape"
   ]
  },
  {
   "cell_type": "code",
   "execution_count": 4,
   "metadata": {},
   "outputs": [
    {
     "data": {
      "text/latex": [
       "$$\\left[\\begin{matrix}1 & 2 & 1\\end{matrix}\\right]$$"
      ],
      "text/plain": [
       "[1  2  1]"
      ]
     },
     "execution_count": 4,
     "metadata": {},
     "output_type": "execute_result"
    }
   ],
   "source": [
    "# 行列の1行目を求める(最初の行のときは０)\n",
    "A.row(0)"
   ]
  },
  {
   "cell_type": "code",
   "execution_count": 5,
   "metadata": {},
   "outputs": [
    {
     "data": {
      "text/latex": [
       "$$\\left[\\begin{matrix}1\\\\-1\\end{matrix}\\right]$$"
      ],
      "text/plain": [
       "⎡1 ⎤\n",
       "⎢  ⎥\n",
       "⎣-1⎦"
      ]
     },
     "execution_count": 5,
     "metadata": {},
     "output_type": "execute_result"
    }
   ],
   "source": [
    " # 行列の1行目を求める(最後からの列のときは－１)\n",
    "A.col(-1)"
   ]
  },
  {
   "cell_type": "code",
   "execution_count": 6,
   "metadata": {},
   "outputs": [
    {
     "name": "stdout",
     "output_type": "stream",
     "text": [
      "A=\n"
     ]
    },
    {
     "data": {
      "text/latex": [
       "$$\\left[\\begin{matrix}1 & 2\\\\0 & 1\\end{matrix}\\right]$$"
      ],
      "text/plain": [
       "⎡1  2⎤\n",
       "⎢    ⎥\n",
       "⎣0  1⎦"
      ]
     },
     "metadata": {},
     "output_type": "display_data"
    },
    {
     "name": "stdout",
     "output_type": "stream",
     "text": [
      "B=\n"
     ]
    },
    {
     "data": {
      "text/latex": [
       "$$\\left[\\begin{matrix}1 & 0\\\\3 & 1\\end{matrix}\\right]$$"
      ],
      "text/plain": [
       "⎡1  0⎤\n",
       "⎢    ⎥\n",
       "⎣3  1⎦"
      ]
     },
     "metadata": {},
     "output_type": "display_data"
    },
    {
     "name": "stdout",
     "output_type": "stream",
     "text": [
      "A*B=\n"
     ]
    },
    {
     "data": {
      "text/latex": [
       "$$\\left[\\begin{matrix}7 & 2\\\\3 & 1\\end{matrix}\\right]$$"
      ],
      "text/plain": [
       "⎡7  2⎤\n",
       "⎢    ⎥\n",
       "⎣3  1⎦"
      ]
     },
     "metadata": {},
     "output_type": "display_data"
    }
   ],
   "source": [
    "# 例 行列の積 p31\n",
    "\n",
    "A = Matrix([[1, 2], [0, 1]])\n",
    "B = Matrix([[1, 0], [3, 1]])\n",
    "\n",
    "print(\"A=\")\n",
    "display(A)\n",
    "print(\"B=\")\n",
    "display(B)\n",
    "\n",
    "print(\"A*B=\")\n",
    "display(A*B)\n"
   ]
  },
  {
   "cell_type": "code",
   "execution_count": 7,
   "metadata": {},
   "outputs": [
    {
     "name": "stdout",
     "output_type": "stream",
     "text": [
      "A=\n"
     ]
    },
    {
     "data": {
      "text/latex": [
       "$$\\left[\\begin{matrix}1 & 2 & 3\\\\4 & 5 & 6\\end{matrix}\\right]$$"
      ],
      "text/plain": [
       "⎡1  2  3⎤\n",
       "⎢       ⎥\n",
       "⎣4  5  6⎦"
      ]
     },
     "metadata": {},
     "output_type": "display_data"
    },
    {
     "name": "stdout",
     "output_type": "stream",
     "text": [
      "B=\n"
     ]
    },
    {
     "data": {
      "text/latex": [
       "$$\\left[\\begin{matrix}2 & 3 & 4\\\\5 & 6 & 7\\end{matrix}\\right]$$"
      ],
      "text/plain": [
       "⎡2  3  4⎤\n",
       "⎢       ⎥\n",
       "⎣5  6  7⎦"
      ]
     },
     "metadata": {},
     "output_type": "display_data"
    },
    {
     "name": "stdout",
     "output_type": "stream",
     "text": [
      "A+B=\n"
     ]
    },
    {
     "data": {
      "text/latex": [
       "$$\\left[\\begin{matrix}3 & 5 & 7\\\\9 & 11 & 13\\end{matrix}\\right]$$"
      ],
      "text/plain": [
       "⎡3  5   7 ⎤\n",
       "⎢         ⎥\n",
       "⎣9  11  13⎦"
      ]
     },
     "metadata": {},
     "output_type": "display_data"
    }
   ],
   "source": [
    "# 例 行列AとBの和 p33\n",
    "A = Matrix([[1, 2, 3], [4, 5, 6]])\n",
    "B = Matrix([[2, 3, 4], [5, 6, 7]])\n",
    "print(\"A=\")\n",
    "display(A)\n",
    "print(\"B=\")\n",
    "display(B)\n",
    "print(\"A+B=\")\n",
    "display(A+B)"
   ]
  },
  {
   "cell_type": "code",
   "execution_count": 8,
   "metadata": {},
   "outputs": [
    {
     "name": "stdout",
     "output_type": "stream",
     "text": [
      "B=\n"
     ]
    },
    {
     "data": {
      "text/latex": [
       "$$\\left[\\begin{matrix}2 & 3 & 4\\\\5 & 6 & 7\\end{matrix}\\right]$$"
      ],
      "text/plain": [
       "⎡2  3  4⎤\n",
       "⎢       ⎥\n",
       "⎣5  6  7⎦"
      ]
     },
     "metadata": {},
     "output_type": "display_data"
    },
    {
     "name": "stdout",
     "output_type": "stream",
     "text": [
      "3B=\n"
     ]
    },
    {
     "data": {
      "text/latex": [
       "$$\\left[\\begin{matrix}6 & 9 & 12\\\\15 & 18 & 21\\end{matrix}\\right]$$"
      ],
      "text/plain": [
       "⎡6   9   12⎤\n",
       "⎢          ⎥\n",
       "⎣15  18  21⎦"
      ]
     },
     "metadata": {},
     "output_type": "display_data"
    }
   ],
   "source": [
    "# 例 行列のスカラー倍　p34  Bを3倍したもの\n",
    "B = Matrix([[2, 3, 4], [5, 6, 7]])\n",
    "print(\"B=\")\n",
    "display(B)\n",
    "print(\"3B=\")\n",
    "display(3*B)"
   ]
  },
  {
   "cell_type": "code",
   "execution_count": 9,
   "metadata": {},
   "outputs": [
    {
     "name": "stdout",
     "output_type": "stream",
     "text": [
      "A=\n"
     ]
    },
    {
     "data": {
      "text/latex": [
       "$$\\left[\\begin{matrix}1 & 2 & 3\\\\4 & 5 & 6\\end{matrix}\\right]$$"
      ],
      "text/plain": [
       "⎡1  2  3⎤\n",
       "⎢       ⎥\n",
       "⎣4  5  6⎦"
      ]
     },
     "metadata": {},
     "output_type": "display_data"
    },
    {
     "name": "stdout",
     "output_type": "stream",
     "text": [
      "A.T=\n"
     ]
    },
    {
     "data": {
      "text/latex": [
       "$$\\left[\\begin{matrix}1 & 4\\\\2 & 5\\\\3 & 6\\end{matrix}\\right]$$"
      ],
      "text/plain": [
       "⎡1  4⎤\n",
       "⎢    ⎥\n",
       "⎢2  5⎥\n",
       "⎢    ⎥\n",
       "⎣3  6⎦"
      ]
     },
     "metadata": {},
     "output_type": "display_data"
    }
   ],
   "source": [
    "# 転置行列を求める\n",
    "A = Matrix([[1, 2, 3], [4, 5, 6]])\n",
    "\n",
    "print(\"A=\")\n",
    "display(A)\n",
    "\n",
    "print(\"A.T=\")\n",
    "display(A.T)"
   ]
  },
  {
   "cell_type": "code",
   "execution_count": 10,
   "metadata": {},
   "outputs": [
    {
     "name": "stdout",
     "output_type": "stream",
     "text": [
      "A=\n"
     ]
    },
    {
     "data": {
      "text/latex": [
       "$$\\left[\\begin{matrix}1 & 2\\\\3 & 4\\end{matrix}\\right]$$"
      ],
      "text/plain": [
       "⎡1  2⎤\n",
       "⎢    ⎥\n",
       "⎣3  4⎦"
      ]
     },
     "metadata": {},
     "output_type": "display_data"
    },
    {
     "name": "stdout",
     "output_type": "stream",
     "text": [
      "B=\n"
     ]
    },
    {
     "data": {
      "text/latex": [
       "$$\\left[\\begin{matrix}2 & 1\\\\4 & 3\\end{matrix}\\right]$$"
      ],
      "text/plain": [
       "⎡2  1⎤\n",
       "⎢    ⎥\n",
       "⎣4  3⎦"
      ]
     },
     "metadata": {},
     "output_type": "display_data"
    },
    {
     "name": "stdout",
     "output_type": "stream",
     "text": [
      "(AB).T=\n"
     ]
    },
    {
     "data": {
      "text/latex": [
       "$$\\left[\\begin{matrix}10 & 22\\\\7 & 15\\end{matrix}\\right]$$"
      ],
      "text/plain": [
       "⎡10  22⎤\n",
       "⎢      ⎥\n",
       "⎣7   15⎦"
      ]
     },
     "metadata": {},
     "output_type": "display_data"
    }
   ],
   "source": [
    "# (AB)の転置を計算する\n",
    "A = Matrix([[1, 2], [3, 4]])\n",
    "B = Matrix([[2, 1], [4, 3]])\n",
    "print(\"A=\")\n",
    "display(A)\n",
    "print(\"B=\")\n",
    "display(B)\n",
    "\n",
    "print(\"(AB).T=\")\n",
    "display((A*B).T)"
   ]
  },
  {
   "cell_type": "code",
   "execution_count": 11,
   "metadata": {},
   "outputs": [
    {
     "name": "stdout",
     "output_type": "stream",
     "text": [
      "(B.T)*(A.T)=\n"
     ]
    },
    {
     "data": {
      "text/latex": [
       "$$\\left[\\begin{matrix}10 & 22\\\\7 & 15\\end{matrix}\\right]$$"
      ],
      "text/plain": [
       "⎡10  22⎤\n",
       "⎢      ⎥\n",
       "⎣7   15⎦"
      ]
     },
     "metadata": {},
     "output_type": "display_data"
    }
   ],
   "source": [
    "# Bの転置行列とAの転置行列の積を求める\n",
    "\n",
    "print(\"(B.T)*(A.T)=\")\n",
    "display((B.T)*(A.T))"
   ]
  },
  {
   "cell_type": "code",
   "execution_count": 12,
   "metadata": {},
   "outputs": [
    {
     "name": "stdout",
     "output_type": "stream",
     "text": [
      "A=\n"
     ]
    },
    {
     "data": {
      "text/latex": [
       "$$\\left[\\begin{matrix}1 & 1 & -2\\\\2 & 2 & 3\\end{matrix}\\right]$$"
      ],
      "text/plain": [
       "⎡1  1  -2⎤\n",
       "⎢        ⎥\n",
       "⎣2  2  3 ⎦"
      ]
     },
     "metadata": {},
     "output_type": "display_data"
    },
    {
     "name": "stdout",
     "output_type": "stream",
     "text": [
      "A.T=\n"
     ]
    },
    {
     "data": {
      "text/latex": [
       "$$\\left[\\begin{matrix}1 & 2\\\\1 & 2\\\\-2 & 3\\end{matrix}\\right]$$"
      ],
      "text/plain": [
       "⎡1   2⎤\n",
       "⎢     ⎥\n",
       "⎢1   2⎥\n",
       "⎢     ⎥\n",
       "⎣-2  3⎦"
      ]
     },
     "metadata": {},
     "output_type": "display_data"
    }
   ],
   "source": [
    "#   問２．１０　　転置行列の計算\n",
    "A = Matrix([[1, 1, -2], [2, 2, 3]])\n",
    "\n",
    "print(\"A=\")\n",
    "display(A)\n",
    "print(\"A.T=\")\n",
    "display(A.T)\n"
   ]
  },
  {
   "cell_type": "code",
   "execution_count": 13,
   "metadata": {},
   "outputs": [
    {
     "name": "stdout",
     "output_type": "stream",
     "text": [
      "A=\n"
     ]
    },
    {
     "data": {
      "text/latex": [
       "$$\\left[\\begin{matrix}1 & 1 & -2\\\\2 & 2 & 3\\end{matrix}\\right]$$"
      ],
      "text/plain": [
       "⎡1  1  -2⎤\n",
       "⎢        ⎥\n",
       "⎣2  2  3 ⎦"
      ]
     },
     "metadata": {},
     "output_type": "display_data"
    },
    {
     "name": "stdout",
     "output_type": "stream",
     "text": [
      "A.T*A=\n"
     ]
    },
    {
     "data": {
      "text/latex": [
       "$$\\left[\\begin{matrix}5 & 5 & 4\\\\5 & 5 & 4\\\\4 & 4 & 13\\end{matrix}\\right]$$"
      ],
      "text/plain": [
       "⎡5  5  4 ⎤\n",
       "⎢        ⎥\n",
       "⎢5  5  4 ⎥\n",
       "⎢        ⎥\n",
       "⎣4  4  13⎦"
      ]
     },
     "metadata": {},
     "output_type": "display_data"
    }
   ],
   "source": [
    "# Aの転置行列とAの積\n",
    "A = Matrix([[1, 1, -2], [2, 2, 3]])\n",
    "print(\"A=\")\n",
    "display(A)\n",
    "print(\"A.T*A=\")\n",
    "display(A.T*A)"
   ]
  },
  {
   "cell_type": "code",
   "execution_count": 14,
   "metadata": {},
   "outputs": [
    {
     "name": "stdout",
     "output_type": "stream",
     "text": [
      "A=\n"
     ]
    },
    {
     "data": {
      "text/latex": [
       "$$\\left[\\begin{matrix}1 & 1 & -2\\\\2 & 2 & 3\\end{matrix}\\right]$$"
      ],
      "text/plain": [
       "⎡1  1  -2⎤\n",
       "⎢        ⎥\n",
       "⎣2  2  3 ⎦"
      ]
     },
     "metadata": {},
     "output_type": "display_data"
    },
    {
     "name": "stdout",
     "output_type": "stream",
     "text": [
      "A*A.T=\n"
     ]
    },
    {
     "data": {
      "text/latex": [
       "$$\\left[\\begin{matrix}6 & -2\\\\-2 & 17\\end{matrix}\\right]$$"
      ],
      "text/plain": [
       "⎡6   -2⎤\n",
       "⎢      ⎥\n",
       "⎣-2  17⎦"
      ]
     },
     "metadata": {},
     "output_type": "display_data"
    }
   ],
   "source": [
    "# A行列とAの転置行列\n",
    "A = Matrix([[1, 1, -2], [2, 2, 3]])\n",
    "print(\"A=\")\n",
    "display(A)\n",
    "print(\"A*A.T=\")\n",
    "display(A*A.T)\n"
   ]
  },
  {
   "cell_type": "code",
   "execution_count": 15,
   "metadata": {},
   "outputs": [
    {
     "name": "stdout",
     "output_type": "stream",
     "text": [
      "O=\n"
     ]
    },
    {
     "data": {
      "text/latex": [
       "$$\\left[\\begin{matrix}0 & 0 & 0\\\\0 & 0 & 0\\end{matrix}\\right]$$"
      ],
      "text/plain": [
       "⎡0  0  0⎤\n",
       "⎢       ⎥\n",
       "⎣0  0  0⎦"
      ]
     },
     "metadata": {},
     "output_type": "display_data"
    }
   ],
   "source": [
    "# ゼロ行列　（2X3）のとき\n",
    "zeros(2, 3)\n",
    "print(\"O=\")\n",
    "display(zeros(2, 3))"
   ]
  },
  {
   "cell_type": "markdown",
   "metadata": {},
   "source": [
    "##  正方行列\n",
    "\n",
    "行の数と列の数が等しい$n$x$n$行列をn次正方行列という\n",
    "\n",
    "$\n",
    "A = \\left(\n",
    "\\begin{array}{ccc}\n",
    "a_{11} & a_{12} & \\ldots & a_{1n} \\\\\n",
    "a_{21} & a_{22} & \\ldots & a_{2n} \\\\\n",
    "\\vdots & \\vdots & \\ddots & \\vdots \\\\\n",
    "a_{n1} & a_{n2} & \\ldots & a_{nn} \n",
    "\\end{array}\n",
    "\\right)\n",
    "$\n",
    "\n",
    "$a_{ii}(1=1,2,\\cdots,n)$を対角成分という\n"
   ]
  },
  {
   "cell_type": "markdown",
   "metadata": {},
   "source": [
    "$A$の$n$回の積は\n",
    "\n",
    "$\\underbrace{AAA \\cdots A }_{ n個 } =A^{n}$と書く"
   ]
  },
  {
   "cell_type": "markdown",
   "metadata": {},
   "source": [
    "#### 対称行列\n",
    "\n",
    "正方行列Aとして，その転置行列を${}^t \\!A$とすると\n",
    "\n",
    "$ A =  {}^t \\!A $のとき　$A$を対称行列という\n"
   ]
  },
  {
   "cell_type": "code",
   "execution_count": 16,
   "metadata": {},
   "outputs": [
    {
     "name": "stdout",
     "output_type": "stream",
     "text": [
      "A=\n"
     ]
    },
    {
     "data": {
      "text/latex": [
       "$$\\left[\\begin{matrix}1 & 2\\\\3 & 4\\end{matrix}\\right]$$"
      ],
      "text/plain": [
       "⎡1  2⎤\n",
       "⎢    ⎥\n",
       "⎣3  4⎦"
      ]
     },
     "metadata": {},
     "output_type": "display_data"
    },
    {
     "name": "stdout",
     "output_type": "stream",
     "text": [
      "A**3=\n"
     ]
    },
    {
     "data": {
      "text/latex": [
       "$$\\left[\\begin{matrix}37 & 54\\\\81 & 118\\end{matrix}\\right]$$"
      ],
      "text/plain": [
       "⎡37  54 ⎤\n",
       "⎢       ⎥\n",
       "⎣81  118⎦"
      ]
     },
     "metadata": {},
     "output_type": "display_data"
    }
   ],
   "source": [
    "# 例 正方行列の３乗する場合\n",
    "A = Matrix([[1, 2], [3, 4]])\n",
    "\n",
    "print(\"A=\")\n",
    "display(A)\n",
    "\n",
    "print(\"A**3=\")\n",
    "display(A**3)"
   ]
  },
  {
   "cell_type": "markdown",
   "metadata": {},
   "source": [
    "### 単位行列\n",
    "\n",
    "対角成分が１で他の成分が０のｎ次正方行列を単位行列といい，$E$で表す\n",
    "\n",
    "$\n",
    "E = \\left(\n",
    "\\begin{array}{ccc}\n",
    "1 & 0 & \\ldots & 0 \\\\\n",
    "0 & 1 & \\ldots & 0 \\\\\n",
    "\\vdots & \\vdots & \\ddots & \\vdots \\\\\n",
    "0 & 0 & \\ldots & 1 \\\\ \n",
    "\\end{array}\n",
    "\\right)\n",
    "$\n",
    "\n",
    "単位行列の性質\n",
    "\n",
    "$EA=A$，　$AE=A$\n",
    "\n",
    "\n",
    "\n"
   ]
  },
  {
   "cell_type": "code",
   "execution_count": 17,
   "metadata": {},
   "outputs": [
    {
     "name": "stdout",
     "output_type": "stream",
     "text": [
      "0=\n"
     ]
    },
    {
     "data": {
      "text/latex": [
       "$$\\left[\\begin{matrix}1 & 0 & 0\\\\0 & 1 & 0\\\\0 & 0 & 1\\end{matrix}\\right]$$"
      ],
      "text/plain": [
       "⎡1  0  0⎤\n",
       "⎢       ⎥\n",
       "⎢0  1  0⎥\n",
       "⎢       ⎥\n",
       "⎣0  0  1⎦"
      ]
     },
     "metadata": {},
     "output_type": "display_data"
    }
   ],
   "source": [
    "# ３次の単位行列\n",
    "print(\"0=\")\n",
    "display(eye(3))"
   ]
  },
  {
   "cell_type": "markdown",
   "metadata": {},
   "source": [
    "## 逆行列\n",
    "\n",
    "n次の正方行列Aに対して，\n",
    "\n",
    "$ AB= E $ かつ　$BA=E$\n",
    "をみたす$B$を$A$の逆行列をいい，$A^{-1}$と書く，また，逆行列の存在する正方行列を正則行列という\n",
    "\n",
    "したがって\n",
    "\n",
    " ### $AA^{-1}=E $，　$A^{-1}A=E$\n",
    " \n",
    " \n",
    " #### 逆行列のルール\n",
    "\n",
    "また，A,Bがn次の正則行列なら\n",
    "\n",
    "〇 $(AB)^{-1}= B^{-1}A^{-1}$\n",
    "\n",
    "〇 $(A^{-1})^{-1}= A $\n",
    "\n",
    "### 定理２．１　正方行列の逆行列が存在すれば，ただ１つである．\n",
    "\n",
    "###  定理２．２　2次の正方行列の逆行列\n",
    "\n",
    "$A=\\begin{pmatrix} a & b \\\\ c & d \\end{pmatrix}$は$ad-bc \\neq 0$のとき，$A$の逆行列が存在し\n",
    "\n",
    "$ A^{-1}= \\displaystyle \\frac{ 1 }{ ad-bc }$ $\\begin{pmatrix} d & -b \\\\ -c & a \\end{pmatrix}$\n",
    "\n",
    "\n",
    "未知数の個数と式の個数が等しい連立方程式\n",
    "\n",
    "$A\\boldsymbol{x}=\\boldsymbol{b}$\n",
    "\n",
    "係数行列Aの逆行列$A^{-1}$が存在するなら，両辺に左から$A^{-1}$をかけて\n",
    "\n",
    "$A^{-1}A\\boldsymbol{x}= A^{-1}\\boldsymbol{b}$\n",
    "\n",
    "\n",
    "$\\therefore$　$ \\boldsymbol{x}= A^{-1}\\boldsymbol{b}$　として求めることができる．\n"
   ]
  },
  {
   "cell_type": "code",
   "execution_count": 18,
   "metadata": {},
   "outputs": [
    {
     "name": "stdout",
     "output_type": "stream",
     "text": [
      "A=\n"
     ]
    },
    {
     "data": {
      "text/latex": [
       "$$\\left[\\begin{matrix}2 & 3\\\\4 & 5\\end{matrix}\\right]$$"
      ],
      "text/plain": [
       "⎡2  3⎤\n",
       "⎢    ⎥\n",
       "⎣4  5⎦"
      ]
     },
     "metadata": {},
     "output_type": "display_data"
    },
    {
     "name": "stdout",
     "output_type": "stream",
     "text": [
      "A**(-1)=\n"
     ]
    },
    {
     "data": {
      "text/latex": [
       "$$\\left[\\begin{matrix}- \\frac{5}{2} & \\frac{3}{2}\\\\2 & -1\\end{matrix}\\right]$$"
      ],
      "text/plain": [
       "⎡-5/2  3/2⎤\n",
       "⎢         ⎥\n",
       "⎣ 2    -1 ⎦"
      ]
     },
     "metadata": {},
     "output_type": "display_data"
    }
   ],
   "source": [
    "# 　例　逆行列の計算\n",
    "A = Matrix([[2, 3], [4, 5]])\n",
    "\n",
    "print(\"A=\")\n",
    "display(A)\n",
    "print(\"A**(-1)=\")\n",
    "display(A**(-1))"
   ]
  },
  {
   "cell_type": "code",
   "execution_count": 19,
   "metadata": {},
   "outputs": [
    {
     "name": "stdout",
     "output_type": "stream",
     "text": [
      "A=\n"
     ]
    },
    {
     "data": {
      "text/latex": [
       "$$\\left[\\begin{matrix}1 & 2 & 3\\\\1 & 2 & 4\\\\1 & 3 & 7\\end{matrix}\\right]$$"
      ],
      "text/plain": [
       "⎡1  2  3⎤\n",
       "⎢       ⎥\n",
       "⎢1  2  4⎥\n",
       "⎢       ⎥\n",
       "⎣1  3  7⎦"
      ]
     },
     "metadata": {},
     "output_type": "display_data"
    },
    {
     "name": "stdout",
     "output_type": "stream",
     "text": [
      "B=\n"
     ]
    },
    {
     "data": {
      "text/latex": [
       "$$\\left[\\begin{matrix}-2 & a & b\\\\3 & -4 & c\\\\-1 & 1 & 0\\end{matrix}\\right]$$"
      ],
      "text/plain": [
       "⎡-2  a   b⎤\n",
       "⎢         ⎥\n",
       "⎢3   -4  c⎥\n",
       "⎢         ⎥\n",
       "⎣-1  1   0⎦"
      ]
     },
     "metadata": {},
     "output_type": "display_data"
    },
    {
     "name": "stdout",
     "output_type": "stream",
     "text": [
      "A*B =E\n"
     ]
    },
    {
     "data": {
      "image/png": "[encoded data removed]",
      "text/latex": [
       "$$\\left \\{ a : 5, \\quad b : -2, \\quad c : 1\\right \\}$$"
      ],
      "text/plain": [
       "{a: 5, b: -2, c: 1}"
      ]
     },
     "metadata": {},
     "output_type": "display_data"
    }
   ],
   "source": [
    "# 　例　逆行列の計算\n",
    "a, b,c = symbols('a b,c')\n",
    "A = Matrix([[1, 2, 3], [1, 2,4],[1,3,7]])\n",
    "B = Matrix([[-2, a, b], [3, -4,c],[-1,1,0]])\n",
    "E =eye(3)\n",
    "\n",
    "print(\"A=\")\n",
    "display(A)\n",
    "print(\"B=\")\n",
    "display(B)\n",
    "\n",
    "print(\"A*B =E\")\n",
    "display(solve(A*B -E))"
   ]
  },
  {
   "cell_type": "code",
   "execution_count": 20,
   "metadata": {},
   "outputs": [
    {
     "name": "stdout",
     "output_type": "stream",
     "text": [
      "A=\n"
     ]
    },
    {
     "data": {
      "text/latex": [
       "$$\\left[\\begin{matrix}1 & 2 & 3\\\\1 & 2 & 4\\\\1 & 3 & 7\\end{matrix}\\right]$$"
      ],
      "text/plain": [
       "⎡1  2  3⎤\n",
       "⎢       ⎥\n",
       "⎢1  2  4⎥\n",
       "⎢       ⎥\n",
       "⎣1  3  7⎦"
      ]
     },
     "metadata": {},
     "output_type": "display_data"
    },
    {
     "name": "stdout",
     "output_type": "stream",
     "text": [
      "A**(-1)=\n"
     ]
    },
    {
     "data": {
      "text/latex": [
       "$$\\left[\\begin{matrix}-2 & 5 & -2\\\\3 & -4 & 1\\\\-1 & 1 & 0\\end{matrix}\\right]$$"
      ],
      "text/plain": [
       "⎡-2  5   -2⎤\n",
       "⎢          ⎥\n",
       "⎢3   -4  1 ⎥\n",
       "⎢          ⎥\n",
       "⎣-1  1   0 ⎦"
      ]
     },
     "metadata": {},
     "output_type": "display_data"
    }
   ],
   "source": [
    "A = Matrix([[1, 2, 3], [1, 2,4],[1,3,7]])\n",
    "\n",
    "print(\"A=\")\n",
    "display(A)\n",
    "print(\"A**(-1)=\")\n",
    "display(A**(-1))\n"
   ]
  },
  {
   "cell_type": "code",
   "execution_count": 21,
   "metadata": {},
   "outputs": [
    {
     "name": "stdout",
     "output_type": "stream",
     "text": [
      "2*x + 3*y = 4\n",
      "4*x + 5*y = 6\n"
     ]
    },
    {
     "data": {
      "image/png": "[encoded data removed]",
      "text/latex": [
       "$$\\left \\{ x : -1, \\quad y : 2\\right \\}$$"
      ],
      "text/plain": [
       "{x: -1, y: 2}"
      ]
     },
     "metadata": {},
     "output_type": "display_data"
    }
   ],
   "source": [
    "# 例 連立方程式を求める solveを利用したとき　P40\n",
    "\n",
    "x,y = symbols('x,y')\n",
    "equation1 = 2*x + 3*y - 4\n",
    "equation2 = 4*x + 5*y - 6\n",
    "\n",
    "\n",
    "print(\"2*x + 3*y = 4\")\n",
    "print(\"4*x + 5*y = 6\")\n",
    "\n",
    "display(solve([equation1, equation2]))"
   ]
  },
  {
   "cell_type": "code",
   "execution_count": 22,
   "metadata": {},
   "outputs": [
    {
     "name": "stdout",
     "output_type": "stream",
     "text": [
      "A = \n"
     ]
    },
    {
     "data": {
      "text/latex": [
       "$$\\left[\\begin{matrix}2 & 3\\\\4 & 5\\end{matrix}\\right]$$"
      ],
      "text/plain": [
       "⎡2  3⎤\n",
       "⎢    ⎥\n",
       "⎣4  5⎦"
      ]
     },
     "metadata": {},
     "output_type": "display_data"
    },
    {
     "name": "stdout",
     "output_type": "stream",
     "text": [
      "b = \n"
     ]
    },
    {
     "data": {
      "text/latex": [
       "$$\\left[\\begin{matrix}4\\\\6\\end{matrix}\\right]$$"
      ],
      "text/plain": [
       "⎡4⎤\n",
       "⎢ ⎥\n",
       "⎣6⎦"
      ]
     },
     "metadata": {},
     "output_type": "display_data"
    },
    {
     "name": "stdout",
     "output_type": "stream",
     "text": [
      "x = A**(-1)*b \n",
      "x = \n"
     ]
    },
    {
     "data": {
      "text/latex": [
       "$$\\left[\\begin{matrix}-1\\\\2\\end{matrix}\\right]$$"
      ],
      "text/plain": [
       "⎡-1⎤\n",
       "⎢  ⎥\n",
       "⎣2 ⎦"
      ]
     },
     "metadata": {},
     "output_type": "display_data"
    }
   ],
   "source": [
    "# 例 連立方程式を求める　逆行列を利用した時　P40\n",
    "\n",
    "A = Matrix([[2, 3], [4, 5]])\n",
    "b = Matrix([[4], [6]])\n",
    "\n",
    "print(\"A = \")\n",
    "display(A)\n",
    "print(\"b = \")\n",
    "display(b)\n",
    "print(\"x = A**(-1)*b \")\n",
    "print(\"x = \")\n",
    "display(A**(-1)*b)"
   ]
  },
  {
   "cell_type": "code",
   "execution_count": 23,
   "metadata": {},
   "outputs": [
    {
     "name": "stdout",
     "output_type": "stream",
     "text": [
      "A = \n"
     ]
    },
    {
     "data": {
      "text/latex": [
       "$$\\left[\\begin{matrix}1 & 3 & 5\\\\3 & 7 & 11\\\\-1 & 4 & 7\\end{matrix}\\right]$$"
      ],
      "text/plain": [
       "⎡1   3  5 ⎤\n",
       "⎢         ⎥\n",
       "⎢3   7  11⎥\n",
       "⎢         ⎥\n",
       "⎣-1  4  7 ⎦"
      ]
     },
     "metadata": {},
     "output_type": "display_data"
    },
    {
     "name": "stdout",
     "output_type": "stream",
     "text": [
      "b = \n"
     ]
    },
    {
     "data": {
      "text/latex": [
       "$$\\left[\\begin{matrix}6\\\\16\\\\-3\\end{matrix}\\right]$$"
      ],
      "text/plain": [
       "⎡6 ⎤\n",
       "⎢  ⎥\n",
       "⎢16⎥\n",
       "⎢  ⎥\n",
       "⎣-3⎦"
      ]
     },
     "metadata": {},
     "output_type": "display_data"
    },
    {
     "name": "stdout",
     "output_type": "stream",
     "text": [
      "x = \n"
     ]
    },
    {
     "data": {
      "image/png": "[encoded data removed]",
      "text/latex": [
       "$$\\left\\{\\left ( 5, \\quad -3, \\quad 2\\right )\\right\\}$$"
      ],
      "text/plain": [
       "{(5, -3, 2)}"
      ]
     },
     "metadata": {},
     "output_type": "display_data"
    }
   ],
   "source": [
    "# 拡大係数行列を作り,連立方程式を解く方法\n",
    "x, y,z = symbols('x, y,z')\n",
    "A = Matrix([[1, 3, 5], [3, 7,11],[-1,4,7]])\n",
    "b = Matrix([6,16,-3])\n",
    "\n",
    "print(\"A = \")\n",
    "display(A)\n",
    "print(\"b = \")\n",
    "display(b)\n",
    "\n",
    "print(\"x = \")\n",
    "display(linsolve((A, b), x, y, z))\n"
   ]
  },
  {
   "cell_type": "code",
   "execution_count": null,
   "metadata": {},
   "outputs": [],
   "source": []
  }
 ],
 "metadata": {
  "kernelspec": {
   "display_name": "Python 3",
   "language": "python",
   "name": "python3"
  },
  "language_info": {
   "codemirror_mode": {
    "name": "ipython",
    "version": 3
   },
   "file_extension": ".py",
   "mimetype": "text/x-python",
   "name": "python",
   "nbconvert_exporter": "python",
   "pygments_lexer": "ipython3",
   "version": "3.7.3"
  }
 },
 "nbformat": 4,
 "nbformat_minor": 2
}
