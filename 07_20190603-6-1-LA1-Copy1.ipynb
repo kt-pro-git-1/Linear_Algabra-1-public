{
 "cells": [
  {
   "cell_type": "markdown",
   "metadata": {},
   "source": [
    "2019年度\n",
    "線形代数　I　講座資料\n",
    "\n",
    "資料番号　No.6-1 \n",
    "\n",
    "## [6-1] 　行基本変形を与える行列\n"
   ]
  },
  {
   "cell_type": "markdown",
   "metadata": {},
   "source": [
    "####  E は単位行列　\n",
    "#### 〇  $E(i,j;k)$ 　Eの$(i,j)$を$k$に変えたもの\n",
    "\n",
    "#### 〇 $E(i;k)$ 　    Eの$(i,i)$を$k$に変えたもの\n",
    "\n",
    "#### 〇 $E(i,j)$ 　    Eの$i$行と$J$行を入れ替えたもの\n"
   ]
  },
  {
   "cell_type": "markdown",
   "metadata": {},
   "source": [
    "3次のときの例\n",
    "\n",
    "\n",
    "$\n",
    "\\begin{eqnarray}\n",
    "E(\\color{red}{2,1};\\color{blue}{-2})= \\left(\n",
    "  \\begin{array}{ccc}\n",
    "    1 & 0 & 0 \\\\\n",
    "   \\color{blue} {-2} & 1 & 0 \\\\\n",
    "    0 & 0 & 1 \\\\\n",
    "  \\end{array}\n",
    "\\right)\n",
    "\\end{eqnarray}\n",
    "$\n",
    "\n",
    "$\n",
    "\\begin{eqnarray}\n",
    "E(\\color{red}2;\\color{blue}{-3})= \\left(\n",
    "  \\begin{array}{ccc}\n",
    "    1 & 0 & 0 \\\\\n",
    "    0 & \\color{blue}{-3} & 0 \\\\\n",
    "    0 & 0 & 1 \\\\\n",
    "  \\end{array}\n",
    "\\right)\n",
    "\\end{eqnarray}\n",
    "$\n",
    "\n",
    "$\n",
    "\\begin{eqnarray}\n",
    "E(\\color{red}{2,3})= \\left(\n",
    "  \\begin{array}{ccc}\n",
    "    1 & 0 & 0 \\\\\n",
    "   \\color{blue}{ 0 }& \\color{blue}0 & \\color{blue}1 \\\\\n",
    "    \\color{blue}0 & \\color{blue}1 &\\color{blue} 0\\\\\n",
    "  \\end{array}\n",
    "\\right)\n",
    "\\end{eqnarray}\n",
    "$\n"
   ]
  },
  {
   "cell_type": "markdown",
   "metadata": {},
   "source": [
    "#### 定理　２．３　基本行列の逆行列も基本行列となる\n",
    "\n",
    "(1)   $E(i,j;k)^{-1} = E(i,j,;-k)$\n",
    "\n",
    "(2)   $E(i;k)^{-1} = E(i;\\frac {1}{k})$　($k \\ne 0$)\n",
    "\n",
    "(3)   $E(i,j)^{-1} = E(i,j) $"
   ]
  },
  {
   "cell_type": "markdown",
   "metadata": {},
   "source": [
    "一般に正方行列$A$の逆行列を考える\n",
    "\n",
    "$\n",
    "A = \\left(\n",
    "\\begin{array}{ccc}\n",
    "a_{11} & a_{12} & \\ldots & a_{1n} \\\\\n",
    "a_{21} & a_{22} & \\ldots & a_{2n} \\\\\n",
    "\\vdots & \\vdots & \\ddots & \\vdots \\\\\n",
    "a_{n1} & a_{n2} & \\ldots & a_{nn} \n",
    "\\end{array}\n",
    "\\right)\n",
    "$\n",
    "\n",
    "\n",
    "$\\underbrace{E_{m}E_{m-1}\\cdots E_{2}E_{1}}_{A^{-1}} A = E $\n",
    "\n",
    "$A^{-1}A = E $\n",
    "\n",
    "$A^{-1}E = E_{m}E_{m-1}\\cdots E_{2}E_{1}E = A^{-1} $\n",
    "\n",
    "\n",
    "#### 定理　２．４ \n",
    "n次の正方行列$A$について，$（A|E）$というnx2n行列が行基本変形を繰り返して$（E|B）$となれば　$B=A^{-1}$である．\n",
    "\n",
    "$(A \\;|\\;E)\\rightarrow (A^{-1}A \\;|\\; A^{-1}E) \\rightarrow  (E \\;|\\; A^{-1}) $\n"
   ]
  },
  {
   "cell_type": "markdown",
   "metadata": {},
   "source": [
    "##### 問2.25 (1)　\n",
    "$\n",
    "A = \\left(\n",
    "\\begin{array}{ccc}\n",
    "1 & 0 & 0  \\\\\n",
    "2 & -1 & 0 \\\\\n",
    "3 & 2& 1  \\\\\n",
    "\\end{array}\n",
    "\\right)\n",
    "$\n",
    "\n",
    "$\n",
    "(A|E) = \\left(\n",
    "\\begin{array}{ccc|ccc}\n",
    "1 & 0 & 0 &1 &0 &0 \\\\\n",
    "2 & -1 & 0 &0 &1 &0 \\\\\n",
    "3 & 2& 1 & 0 &0 &1 \\\\\n",
    "\\end{array}\n",
    "\\right)\n",
    "$\n",
    "\n",
    "3行に1行の（－３）倍を加える，\n",
    "2行に1行の（－２）倍を加える\n",
    "$\n",
    "\\dashrightarrow\n",
    "$\n",
    "$\n",
    " \\left(\n",
    "\\begin{array}{ccc|ccc}\n",
    "1 & 0 & 0 &1 &0 &0 \\\\\n",
    "0 & -1 & 0 &-2 &1 &0 \\\\\n",
    "0 & 2& 1 & -3 &0 &1 \\\\\n",
    "\\end{array}\n",
    "\\right)\n",
    "$\n",
    "\n",
    "\n",
    "２行を(－１)倍する\n",
    "$\n",
    "\\dashrightarrow\n",
    "$\n",
    "$\n",
    " \\left(\n",
    "\\begin{array}{ccc|ccc}\n",
    "1 & 0 & 0 &1 &0 &0 \\\\\n",
    "0 & 1 & 0 &2 &-1 &0 \\\\\n",
    "0 & 2& 1 & -3 &0 &1 \\\\\n",
    "\\end{array}\n",
    "\\right)\n",
    "$\n",
    "\n",
    "\n",
    "3行に2行の（－２）倍を加える\n",
    "$\n",
    "\\dashrightarrow\n",
    "$\n",
    "$\n",
    " \\left(\n",
    "\\begin{array}{ccc|ccc}\n",
    "1 & 0 & 0 &1 &0 &0 \\\\\n",
    "0 & 1 & 0 &2 &-1 &0 \\\\\n",
    "0 & 0& 1 & -7 &2 &1 \\\\\n",
    "\\end{array}\n",
    "\\right)=(E|A^{-1})\n",
    "$\n",
    "\n",
    "したがって，$A^{-1}$は\n",
    "\n",
    "$\n",
    "A^{-1}= \\left(\n",
    "\\begin{array}{ccc}\n",
    "1 &0 &0 \\\\\n",
    "2 &-1 &0 \\\\\n",
    "-7 &2 &1 \\\\\n",
    "\\end{array}\n",
    "\\right)\n",
    "$\n",
    "\n",
    "となる．"
   ]
  },
  {
   "cell_type": "code",
   "execution_count": 1,
   "metadata": {},
   "outputs": [],
   "source": [
    "# 初めに1回だけ実行させる\n",
    "from sympy import *\n",
    "init_printing()\n",
    "# init_session()"
   ]
  },
  {
   "cell_type": "code",
   "execution_count": 2,
   "metadata": {},
   "outputs": [
    {
     "name": "stdout",
     "output_type": "stream",
     "text": [
      "A=\n"
     ]
    },
    {
     "data": {
      "text/latex": [
       "$$\\left[\\begin{matrix}1 & 0 & 0\\\\2 & -1 & 0\\\\3 & 2 & 1\\end{matrix}\\right]$$"
      ],
      "text/plain": [
       "⎡1  0   0⎤\n",
       "⎢        ⎥\n",
       "⎢2  -1  0⎥\n",
       "⎢        ⎥\n",
       "⎣3  2   1⎦"
      ]
     },
     "metadata": {},
     "output_type": "display_data"
    },
    {
     "name": "stdout",
     "output_type": "stream",
     "text": [
      "A^{-1}=\n"
     ]
    },
    {
     "data": {
      "text/latex": [
       "$$\\left[\\begin{matrix}1 & 0 & 0\\\\2 & -1 & 0\\\\-7 & 2 & 1\\end{matrix}\\right]$$"
      ],
      "text/plain": [
       "⎡1   0   0⎤\n",
       "⎢         ⎥\n",
       "⎢2   -1  0⎥\n",
       "⎢         ⎥\n",
       "⎣-7  2   1⎦"
      ]
     },
     "metadata": {},
     "output_type": "display_data"
    },
    {
     "name": "stdout",
     "output_type": "stream",
     "text": [
      "A*A^{-1}=Eを確認する\n",
      "A*A^{-1}=\n"
     ]
    },
    {
     "data": {
      "text/latex": [
       "$$\\left[\\begin{matrix}1 & 0 & 0\\\\0 & 1 & 0\\\\0 & 0 & 1\\end{matrix}\\right]$$"
      ],
      "text/plain": [
       "⎡1  0  0⎤\n",
       "⎢       ⎥\n",
       "⎢0  1  0⎥\n",
       "⎢       ⎥\n",
       "⎣0  0  1⎦"
      ]
     },
     "metadata": {},
     "output_type": "display_data"
    },
    {
     "name": "stdout",
     "output_type": "stream",
     "text": [
      "A^{-1}*A=Eを確認する\n",
      "A^{-1}*A=\n"
     ]
    },
    {
     "data": {
      "text/latex": [
       "$$\\left[\\begin{matrix}1 & 0 & 0\\\\0 & 1 & 0\\\\0 & 0 & 1\\end{matrix}\\right]$$"
      ],
      "text/plain": [
       "⎡1  0  0⎤\n",
       "⎢       ⎥\n",
       "⎢0  1  0⎥\n",
       "⎢       ⎥\n",
       "⎣0  0  1⎦"
      ]
     },
     "metadata": {},
     "output_type": "display_data"
    }
   ],
   "source": [
    "# 問２．２５（１）\n",
    "\n",
    "A ,x, y,z = symbols('A ,x, y,z')\n",
    "\n",
    "A = Matrix([[1, 0, 0], [2, -1,0],[3,2,1]])\n",
    "\n",
    "print(\"A=\")\n",
    "display(A)\n",
    "print(\"A^{-1}=\")   # Aの逆行列\n",
    "display(A**(-1))   #display(A.inv()) でもよい\n",
    "\n",
    "print(\"A*A^{-1}=Eを確認する\") # A*A^{-1}=E \n",
    "print(\"A*A^{-1}=\")\n",
    "display(A*A**(-1))   #display(A.inv()) でもよい\n",
    "print(\"A^{-1}*A=Eを確認する\") # A*A^{-1}=E \n",
    "print(\"A^{-1}*A=\")\n",
    "display(A**(-1)*A)   #display(A.inv()) でもよい\n",
    "\n",
    "#print(\"E=\")\n",
    "#eye(3)"
   ]
  },
  {
   "cell_type": "code",
   "execution_count": 3,
   "metadata": {},
   "outputs": [
    {
     "name": "stdout",
     "output_type": "stream",
     "text": [
      "A=\n"
     ]
    },
    {
     "data": {
      "text/latex": [
       "$$\\left[\\begin{matrix}0 & 0 & 1\\\\0 & 1 & 2\\\\1 & 3 & 4\\end{matrix}\\right]$$"
      ],
      "text/plain": [
       "⎡0  0  1⎤\n",
       "⎢       ⎥\n",
       "⎢0  1  2⎥\n",
       "⎢       ⎥\n",
       "⎣1  3  4⎦"
      ]
     },
     "metadata": {},
     "output_type": "display_data"
    },
    {
     "name": "stdout",
     "output_type": "stream",
     "text": [
      "A^{-1}=\n"
     ]
    },
    {
     "data": {
      "text/latex": [
       "$$\\left[\\begin{matrix}2 & -3 & 1\\\\-2 & 1 & 0\\\\1 & 0 & 0\\end{matrix}\\right]$$"
      ],
      "text/plain": [
       "⎡2   -3  1⎤\n",
       "⎢         ⎥\n",
       "⎢-2  1   0⎥\n",
       "⎢         ⎥\n",
       "⎣1   0   0⎦"
      ]
     },
     "metadata": {},
     "output_type": "display_data"
    },
    {
     "name": "stdout",
     "output_type": "stream",
     "text": [
      "A*A^{-1}=Eを確認する\n",
      "A*A^{-1}=\n"
     ]
    },
    {
     "data": {
      "text/latex": [
       "$$\\left[\\begin{matrix}1 & 0 & 0\\\\0 & 1 & 0\\\\0 & 0 & 1\\end{matrix}\\right]$$"
      ],
      "text/plain": [
       "⎡1  0  0⎤\n",
       "⎢       ⎥\n",
       "⎢0  1  0⎥\n",
       "⎢       ⎥\n",
       "⎣0  0  1⎦"
      ]
     },
     "metadata": {},
     "output_type": "display_data"
    },
    {
     "name": "stdout",
     "output_type": "stream",
     "text": [
      "A^{-1}*A=Eを確認する\n",
      "A^{-1}*A=\n"
     ]
    },
    {
     "data": {
      "text/latex": [
       "$$\\left[\\begin{matrix}1 & 0 & 0\\\\0 & 1 & 0\\\\0 & 0 & 1\\end{matrix}\\right]$$"
      ],
      "text/plain": [
       "⎡1  0  0⎤\n",
       "⎢       ⎥\n",
       "⎢0  1  0⎥\n",
       "⎢       ⎥\n",
       "⎣0  0  1⎦"
      ]
     },
     "metadata": {},
     "output_type": "display_data"
    }
   ],
   "source": [
    "# 問２．２５（２）\n",
    "\n",
    "A ,x, y,z = symbols('A ,x, y,z')\n",
    "\n",
    "A = Matrix([[0, 0, 1], [0, 1,2],[1,3,4]])\n",
    "\n",
    "print(\"A=\")\n",
    "display(A)\n",
    "\n",
    "print(\"A^{-1}=\")   # Aの逆行列\n",
    "display(A**(-1))   #display(A.inv()) でもよい\n",
    "\n",
    "print(\"A*A^{-1}=Eを確認する\") # A*A^{-1}=E \n",
    "print(\"A*A^{-1}=\")\n",
    "display(A*A**(-1))   #display(A.inv()) でもよい\n",
    "print(\"A^{-1}*A=Eを確認する\") # A*A^{-1}=E \n",
    "print(\"A^{-1}*A=\")\n",
    "display(A**(-1)*A)   #display(A.inv()) でもよい\n",
    "\n",
    "#print(\"E=\")\n",
    "#eye(3)"
   ]
  },
  {
   "cell_type": "code",
   "execution_count": 4,
   "metadata": {},
   "outputs": [
    {
     "name": "stdout",
     "output_type": "stream",
     "text": [
      "A=\n"
     ]
    },
    {
     "data": {
      "text/latex": [
       "$$\\left[\\begin{matrix}1 & 1 & 1\\\\0 & 1 & 1\\\\0 & 0 & 1\\end{matrix}\\right]$$"
      ],
      "text/plain": [
       "⎡1  1  1⎤\n",
       "⎢       ⎥\n",
       "⎢0  1  1⎥\n",
       "⎢       ⎥\n",
       "⎣0  0  1⎦"
      ]
     },
     "metadata": {},
     "output_type": "display_data"
    },
    {
     "name": "stdout",
     "output_type": "stream",
     "text": [
      "A^{-1}=\n"
     ]
    },
    {
     "data": {
      "text/latex": [
       "$$\\left[\\begin{matrix}1 & -1 & 0\\\\0 & 1 & -1\\\\0 & 0 & 1\\end{matrix}\\right]$$"
      ],
      "text/plain": [
       "⎡1  -1  0 ⎤\n",
       "⎢         ⎥\n",
       "⎢0  1   -1⎥\n",
       "⎢         ⎥\n",
       "⎣0  0   1 ⎦"
      ]
     },
     "metadata": {},
     "output_type": "display_data"
    },
    {
     "name": "stdout",
     "output_type": "stream",
     "text": [
      "A*A^{-1}=Eを確認する\n",
      "A*A^{-1}=\n"
     ]
    },
    {
     "data": {
      "text/latex": [
       "$$\\left[\\begin{matrix}1 & 0 & 0\\\\0 & 1 & 0\\\\0 & 0 & 1\\end{matrix}\\right]$$"
      ],
      "text/plain": [
       "⎡1  0  0⎤\n",
       "⎢       ⎥\n",
       "⎢0  1  0⎥\n",
       "⎢       ⎥\n",
       "⎣0  0  1⎦"
      ]
     },
     "metadata": {},
     "output_type": "display_data"
    },
    {
     "name": "stdout",
     "output_type": "stream",
     "text": [
      "A^{-1}*A=Eを確認する\n",
      "A^{-1}*A=\n"
     ]
    },
    {
     "data": {
      "text/latex": [
       "$$\\left[\\begin{matrix}1 & 0 & 0\\\\0 & 1 & 0\\\\0 & 0 & 1\\end{matrix}\\right]$$"
      ],
      "text/plain": [
       "⎡1  0  0⎤\n",
       "⎢       ⎥\n",
       "⎢0  1  0⎥\n",
       "⎢       ⎥\n",
       "⎣0  0  1⎦"
      ]
     },
     "metadata": {},
     "output_type": "display_data"
    }
   ],
   "source": [
    "# 演習問題　２B　６（２）\n",
    "\n",
    "A ,x, y,z = symbols('A ,x, y,z')\n",
    "\n",
    "A = Matrix([[1, 1, 1], [0, 1,1],[0,0,1]])\n",
    "print(\"A=\")\n",
    "display(A)\n",
    "print(\"A^{-1}=\")   # Aの逆行列\n",
    "display(A**(-1))   #display(A.inv()) でもよい\n",
    "\n",
    "\n",
    "print(\"A*A^{-1}=Eを確認する\") # A*A^{-1}=E \n",
    "print(\"A*A^{-1}=\")\n",
    "display(A*A**(-1))   #display(A.inv()) でもよい\n",
    "print(\"A^{-1}*A=Eを確認する\") # A*A^{-1}=E \n",
    "print(\"A^{-1}*A=\")\n",
    "display(A**(-1)*A)   #display(A.inv()) でもよい\n",
    "\n",
    "#print(\"E=\")\n",
    "#eye(3)"
   ]
  },
  {
   "cell_type": "code",
   "execution_count": 5,
   "metadata": {},
   "outputs": [
    {
     "name": "stdout",
     "output_type": "stream",
     "text": [
      "A=\n"
     ]
    },
    {
     "data": {
      "text/latex": [
       "$$\\left[\\begin{matrix}1 & 1 & 1\\\\1 & 2 & 2\\\\1 & 2 & 1\\end{matrix}\\right]$$"
      ],
      "text/plain": [
       "⎡1  1  1⎤\n",
       "⎢       ⎥\n",
       "⎢1  2  2⎥\n",
       "⎢       ⎥\n",
       "⎣1  2  1⎦"
      ]
     },
     "metadata": {},
     "output_type": "display_data"
    },
    {
     "name": "stdout",
     "output_type": "stream",
     "text": [
      "A^{-1}=\n"
     ]
    },
    {
     "data": {
      "text/latex": [
       "$$\\left[\\begin{matrix}2 & -1 & 0\\\\-1 & 0 & 1\\\\0 & 1 & -1\\end{matrix}\\right]$$"
      ],
      "text/plain": [
       "⎡2   -1  0 ⎤\n",
       "⎢          ⎥\n",
       "⎢-1  0   1 ⎥\n",
       "⎢          ⎥\n",
       "⎣0   1   -1⎦"
      ]
     },
     "metadata": {},
     "output_type": "display_data"
    },
    {
     "name": "stdout",
     "output_type": "stream",
     "text": [
      "A*A^{-1}=Eを確認する\n",
      "A*A^{-1}=\n"
     ]
    },
    {
     "data": {
      "text/latex": [
       "$$\\left[\\begin{matrix}1 & 0 & 0\\\\0 & 1 & 0\\\\0 & 0 & 1\\end{matrix}\\right]$$"
      ],
      "text/plain": [
       "⎡1  0  0⎤\n",
       "⎢       ⎥\n",
       "⎢0  1  0⎥\n",
       "⎢       ⎥\n",
       "⎣0  0  1⎦"
      ]
     },
     "metadata": {},
     "output_type": "display_data"
    },
    {
     "name": "stdout",
     "output_type": "stream",
     "text": [
      "A^{-1}*A=Eを確認する\n",
      "A^{-1}*A=\n"
     ]
    },
    {
     "data": {
      "text/latex": [
       "$$\\left[\\begin{matrix}1 & 0 & 0\\\\0 & 1 & 0\\\\0 & 0 & 1\\end{matrix}\\right]$$"
      ],
      "text/plain": [
       "⎡1  0  0⎤\n",
       "⎢       ⎥\n",
       "⎢0  1  0⎥\n",
       "⎢       ⎥\n",
       "⎣0  0  1⎦"
      ]
     },
     "metadata": {},
     "output_type": "display_data"
    }
   ],
   "source": [
    "# 演習問題　２B　６（３）\n",
    "import scipy.linalg as linalg\n",
    "A ,x, y,z = symbols('A ,x, y,z')\n",
    "\n",
    "A = Matrix([[1, 1, 1], [1, 2,2],[1,2,1]])\n",
    "\n",
    "print(\"A=\")\n",
    "display(A)\n",
    "print(\"A^{-1}=\")   # Aの逆行列\n",
    "display(A**(-1))   #display(A.inv()) でもよい\n",
    "\n",
    "\n",
    "print(\"A*A^{-1}=Eを確認する\") # A*A^{-1}=E \n",
    "print(\"A*A^{-1}=\")\n",
    "display(A*A**(-1))   #display(A.inv()) でもよい\n",
    "print(\"A^{-1}*A=Eを確認する\") # A*A^{-1}=E \n",
    "print(\"A^{-1}*A=\")\n",
    "display(A**(-1)*A)   #display(A.inv()) でもよい\n",
    "\n",
    "#print(\"E=\")\n",
    "#eye(3)"
   ]
  },
  {
   "cell_type": "code",
   "execution_count": null,
   "metadata": {},
   "outputs": [],
   "source": []
  }
 ],
 "metadata": {
  "kernelspec": {
   "display_name": "Python 3",
   "language": "python",
   "name": "python3"
  },
  "language_info": {
   "codemirror_mode": {
    "name": "ipython",
    "version": 3
   },
   "file_extension": ".py",
   "mimetype": "text/x-python",
   "name": "python",
   "nbconvert_exporter": "python",
   "pygments_lexer": "ipython3",
   "version": "3.7.3"
  }
 },
 "nbformat": 4,
 "nbformat_minor": 2
}
