{
 "cells": [
  {
   "cell_type": "markdown",
   "metadata": {},
   "source": [
    "2019年度\n",
    "線形代数　I　講座資料\n",
    "\n",
    "資料番号　No.8-1 \n",
    "\n",
    "## [8-1] 　線形代数 I まとめ\n"
   ]
  },
  {
   "cell_type": "markdown",
   "metadata": {},
   "source": [
    "###### まとめ\n",
    "\n",
    "\n",
    "- ベクトルの計算\n",
    " - 大きさの計算\n",
    " - 単位ベクトルの作り方\n",
    " - 内積の計算 , 直交条件とは(２つのベクトルのなす角度が直角の時，内積はゼロとなる)\n",
    " - 外積の計算，２つのベクトルからさらに両方に垂直なベクトルを作る\n",
    "- 平面の方程式\n",
    "- 直線の方程式\n",
    "- 行列の計算\n",
    " - 行列の積\n",
    " - 行列の和\n",
    " - 逆行列（２次のとき）\n",
    "- 掃き出し法\n",
    " - 行基本変形（３つのルール）\n",
    " - 連立１次方程式の解を求める\n",
    " - 逆行列を求める（３次以上の平方行列）\n",
    "- 線形変換\n",
    " - 1次変換\n",
    "  - 平面の時\n",
    "   - 直線に対称に移すときの表現行列\n",
    "   - 原点回りで回転するとき表現行列\n",
    "   $R_{\\theta} $\n",
    " - １次変換の合成\n",
    " - 逆変換\n",
    " - 直交行列\n",
    "  - 空間の時\n",
    "   - 平面に対称に移すときの表現行列\n",
    "   - 各軸周りで回転するとき表現行列"
   ]
  },
  {
   "cell_type": "code",
   "execution_count": null,
   "metadata": {},
   "outputs": [],
   "source": []
  },
  {
   "cell_type": "code",
   "execution_count": null,
   "metadata": {},
   "outputs": [],
   "source": []
  }
 ],
 "metadata": {
  "kernelspec": {
   "display_name": "Python 3",
   "language": "python",
   "name": "python3"
  },
  "language_info": {
   "codemirror_mode": {
    "name": "ipython",
    "version": 3
   },
   "file_extension": ".py",
   "mimetype": "text/x-python",
   "name": "python",
   "nbconvert_exporter": "python",
   "pygments_lexer": "ipython3",
   "version": "3.7.3"
  }
 },
 "nbformat": 4,
 "nbformat_minor": 2
}
